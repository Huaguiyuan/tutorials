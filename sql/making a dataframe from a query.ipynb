{
 "cells": [
  {
   "cell_type": "markdown",
   "metadata": {},
   "source": [
    "# Making a dataframe from a SQL query\n",
    "\n",
    "SQL is a very powerful tool that can help us organize our data quite effectively. This tutorial demonstrates how to make a query, connect to a database, and do so safely. Each line will be broken down for you below."
   ]
  },
  {
   "cell_type": "code",
   "execution_count": 1,
   "metadata": {},
   "outputs": [],
   "source": [
    "%matplotlib inline\n",
    "import pandas as pd\n",
    "import matplotlib.pyplot as plt"
   ]
  },
  {
   "cell_type": "markdown",
   "metadata": {},
   "source": [
    "`sqlalchemy` is a very powerful library that lets us interact with SQL databases. It has many functions, however, the only function we need is for it to create the \"engine\". The engine is simply the connection apparatus for python to talk to the SQL database. `pandas` can use `sqlalchemy` engines to talk to databases. This makes it very easy to import data from a database into a dataframe."
   ]
  },
  {
   "cell_type": "code",
   "execution_count": 2,
   "metadata": {},
   "outputs": [],
   "source": [
    "import sqlalchemy"
   ]
  },
  {
   "cell_type": "markdown",
   "metadata": {},
   "source": [
    "`urllib` is also a very powerful library. In this case we use it to parse the connection string so `sqlalchemy` can read it. The connection string provides the sqlalchemy engine all the information that is necessary for connecting to the database. This connection string is important and should be **kept a secret!** It will have your username and password and should never be uploaded to github. Make sure you add it to your `.gitignore` file."
   ]
  },
  {
   "cell_type": "code",
   "execution_count": 3,
   "metadata": {},
   "outputs": [],
   "source": [
    "import urllib"
   ]
  },
  {
   "cell_type": "markdown",
   "metadata": {},
   "source": [
    "These are two python files that we have created ourselves.\n",
    "\n",
    "**queries** - we put all our queries in a separate python file and then import them. This is because queries can end up being very long strings and sit at the front of notebooks taking up space. This can make notebooks hard to read.\n",
    "\n",
    "**connections** - This file contains the connection string. We put the connection string in a separate file because it should **be kept secret**. Remember to add this file to your `.gitignore` file."
   ]
  },
  {
   "cell_type": "code",
   "execution_count": 4,
   "metadata": {},
   "outputs": [],
   "source": [
    "import queries\n",
    "from connections import *"
   ]
  },
  {
   "cell_type": "markdown",
   "metadata": {},
   "source": [
    "Here we parse the connection string and then give it to sqlalchemy to create the engine."
   ]
  },
  {
   "cell_type": "code",
   "execution_count": 5,
   "metadata": {},
   "outputs": [],
   "source": [
    "quoted = urllib.parse.quote_plus(CONN_STR)\n",
    "engine = sqlalchemy.create_engine('mssql+pyodbc:///?odbc_connect={}'.format(quoted))"
   ]
  },
  {
   "cell_type": "markdown",
   "metadata": {},
   "source": [
    "Like reading in CSV files, pandas easily reads in a query value. The pandas `read_sql` function simply turns the output of the query into a dataframe."
   ]
  },
  {
   "cell_type": "code",
   "execution_count": 6,
   "metadata": {},
   "outputs": [],
   "source": [
    "df = pd.read_sql(queries.STUDENTS, engine)"
   ]
  },
  {
   "cell_type": "markdown",
   "metadata": {},
   "source": [
    "And now thorough the magic of computers we have pulled some data from a database, stuck it in a `pandas` dataframe, and made a visualization below. Check out the chaining of functions that `pandas` dataframe allows. It probably looks complicated now but eventually you might find these sorts of chains of functions easy to write when you are exploring your data."
   ]
  },
  {
   "cell_type": "code",
   "execution_count": 7,
   "metadata": {},
   "outputs": [
    {
     "data": {
      "text/html": [
       "<div>\n",
       "<style scoped>\n",
       "    .dataframe tbody tr th:only-of-type {\n",
       "        vertical-align: middle;\n",
       "    }\n",
       "\n",
       "    .dataframe tbody tr th {\n",
       "        vertical-align: top;\n",
       "    }\n",
       "\n",
       "    .dataframe thead th {\n",
       "        text-align: right;\n",
       "    }\n",
       "</style>\n",
       "<table border=\"1\" class=\"dataframe\">\n",
       "  <thead>\n",
       "    <tr style=\"text-align: right;\">\n",
       "      <th></th>\n",
       "      <th>student_id_fk</th>\n",
       "      <th>birth_date</th>\n",
       "      <th>gender</th>\n",
       "      <th>Ipeds_flag</th>\n",
       "      <th>ethnicity</th>\n",
       "      <th>first_course_datetime</th>\n",
       "      <th>hsgpa</th>\n",
       "      <th>hsgpa_type_code</th>\n",
       "      <th>math_placement_score</th>\n",
       "      <th>HS_Zip_Code</th>\n",
       "      <th>HS_State_Code</th>\n",
       "      <th>math_act</th>\n",
       "      <th>natsci_act</th>\n",
       "      <th>first_gen</th>\n",
       "    </tr>\n",
       "  </thead>\n",
       "  <tbody>\n",
       "    <tr>\n",
       "      <th>0</th>\n",
       "      <td>A02145826</td>\n",
       "      <td>1959-08-08</td>\n",
       "      <td>F</td>\n",
       "      <td>1</td>\n",
       "      <td>Caucasian (non Hispanic)</td>\n",
       "      <td>1992-06-24</td>\n",
       "      <td>NaN</td>\n",
       "      <td>None</td>\n",
       "      <td>NaN</td>\n",
       "      <td>None</td>\n",
       "      <td>None</td>\n",
       "      <td>NaN</td>\n",
       "      <td>NaN</td>\n",
       "      <td>0</td>\n",
       "    </tr>\n",
       "    <tr>\n",
       "      <th>1</th>\n",
       "      <td>A02145834</td>\n",
       "      <td>1966-11-01</td>\n",
       "      <td>M</td>\n",
       "      <td>1</td>\n",
       "      <td>Caucasian (non Hispanic)</td>\n",
       "      <td>1992-06-24</td>\n",
       "      <td>NaN</td>\n",
       "      <td>None</td>\n",
       "      <td>NaN</td>\n",
       "      <td>None</td>\n",
       "      <td>None</td>\n",
       "      <td>NaN</td>\n",
       "      <td>NaN</td>\n",
       "      <td>0</td>\n",
       "    </tr>\n",
       "    <tr>\n",
       "      <th>2</th>\n",
       "      <td>A02145843</td>\n",
       "      <td>1965-05-05</td>\n",
       "      <td>M</td>\n",
       "      <td>1</td>\n",
       "      <td>Caucasian (non Hispanic)</td>\n",
       "      <td>1992-06-24</td>\n",
       "      <td>NaN</td>\n",
       "      <td>None</td>\n",
       "      <td>NaN</td>\n",
       "      <td>None</td>\n",
       "      <td>None</td>\n",
       "      <td>NaN</td>\n",
       "      <td>NaN</td>\n",
       "      <td>0</td>\n",
       "    </tr>\n",
       "    <tr>\n",
       "      <th>3</th>\n",
       "      <td>A02145851</td>\n",
       "      <td>1971-07-17</td>\n",
       "      <td>M</td>\n",
       "      <td>7</td>\n",
       "      <td>Other</td>\n",
       "      <td>1992-06-24</td>\n",
       "      <td>NaN</td>\n",
       "      <td>None</td>\n",
       "      <td>NaN</td>\n",
       "      <td>None</td>\n",
       "      <td>None</td>\n",
       "      <td>NaN</td>\n",
       "      <td>NaN</td>\n",
       "      <td>0</td>\n",
       "    </tr>\n",
       "    <tr>\n",
       "      <th>4</th>\n",
       "      <td>A02145865</td>\n",
       "      <td>1959-07-19</td>\n",
       "      <td>F</td>\n",
       "      <td>8</td>\n",
       "      <td>Not Reported</td>\n",
       "      <td>1992-06-24</td>\n",
       "      <td>NaN</td>\n",
       "      <td>None</td>\n",
       "      <td>NaN</td>\n",
       "      <td>None</td>\n",
       "      <td>None</td>\n",
       "      <td>NaN</td>\n",
       "      <td>NaN</td>\n",
       "      <td>0</td>\n",
       "    </tr>\n",
       "  </tbody>\n",
       "</table>\n",
       "</div>"
      ],
      "text/plain": [
       "  student_id_fk birth_date gender Ipeds_flag                 ethnicity  \\\n",
       "0     A02145826 1959-08-08      F          1  Caucasian (non Hispanic)   \n",
       "1     A02145834 1966-11-01      M          1  Caucasian (non Hispanic)   \n",
       "2     A02145843 1965-05-05      M          1  Caucasian (non Hispanic)   \n",
       "3     A02145851 1971-07-17      M          7                     Other   \n",
       "4     A02145865 1959-07-19      F          8              Not Reported   \n",
       "\n",
       "  first_course_datetime  hsgpa hsgpa_type_code  math_placement_score  \\\n",
       "0            1992-06-24    NaN            None                   NaN   \n",
       "1            1992-06-24    NaN            None                   NaN   \n",
       "2            1992-06-24    NaN            None                   NaN   \n",
       "3            1992-06-24    NaN            None                   NaN   \n",
       "4            1992-06-24    NaN            None                   NaN   \n",
       "\n",
       "  HS_Zip_Code HS_State_Code  math_act  natsci_act  first_gen  \n",
       "0        None          None       NaN         NaN          0  \n",
       "1        None          None       NaN         NaN          0  \n",
       "2        None          None       NaN         NaN          0  \n",
       "3        None          None       NaN         NaN          0  \n",
       "4        None          None       NaN         NaN          0  "
      ]
     },
     "execution_count": 7,
     "metadata": {},
     "output_type": "execute_result"
    }
   ],
   "source": [
    "df.head()"
   ]
  },
  {
   "cell_type": "code",
   "execution_count": 11,
   "metadata": {},
   "outputs": [
    {
     "data": {
      "text/plain": [
       "Text(0, 0.5, 'high school gpa')"
      ]
     },
     "execution_count": 11,
     "metadata": {},
     "output_type": "execute_result"
    },
    {
     "data": {
      "image/png": "[encoded data removed]",
      "text/plain": [
       "<Figure size 720x360 with 1 Axes>"
      ]
     },
     "metadata": {
      "needs_background": "light"
     },
     "output_type": "display_data"
    }
   ],
   "source": [
    "fig, ax = plt.subplots(figsize=(10, 5))\n",
    "df.set_index('first_course_datetime').groupby(pd.Grouper(freq='y')).mean().hsgpa.plot(ax=ax)\n",
    "ax.set_ylabel('high school gpa')"
   ]
  }
 ],
 "metadata": {
  "kernelspec": {
   "display_name": "Python 3",
   "language": "python",
   "name": "python3"
  },
  "language_info": {
   "codemirror_mode": {
    "name": "ipython",
    "version": 3
   },
   "file_extension": ".py",
   "mimetype": "text/x-python",
   "name": "python",
   "nbconvert_exporter": "python",
   "pygments_lexer": "ipython3",
   "version": "3.7.3"
  }
 },
 "nbformat": 4,
 "nbformat_minor": 2
}
