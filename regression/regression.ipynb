{
 "cells": [
  {
   "cell_type": "markdown",
   "metadata": {},
   "source": [
    "# Regression\n",
    "\n",
    "Regression modeling is any attempt to predict or explain a continous variable from a collection of input data. This could be student GPA, the position of a planet orbiting a sun, or the color of a pixel in a photo. Values such as whether a student is a STEM student or not, the probability of an event occuring (such as changing a major, an earthquake) are not regression tasks (they are classification).\n",
    "\n",
    "After completing this tutorial you should be able to:\n",
    "\n",
    "* use `sci-kit learn` to split data into training and testing sets\n",
    "* understand the model, fit, score paradigm in `sci-kit learn` and apply it to a problem\n",
    "* understand the most important visualizations of regression analysis: actual vs. predicted, actual vs. residuals, residuals distribution vs. assumed theoretical distribution (in case of OLS models)\n",
    "* have a conceptual understanding of the basic goal of any regression task\n",
    "* have some understanding that most statistical \"tests\" are typically just specific solutions of a linear regression problem\n",
    "* have some understanding of the assumptions of linear models\n",
    "\n",
    "## Further reading\n",
    "\n",
    "1. Hands on machine learning, probably the best practical machine learning textbook ever written https://github.com/ageron/handson-ml\n",
    "2. Common statistical tests are linear models, stop thinking statistics are something other than y=mx+b, they are not. lol. https://lindeloev.github.io/tests-as-linear/?fbclid=IwAR09Rp4Vv18fOO4lg0ITnCYJICCC1iuzeq-tNYPWsnmK6CrGgdErpvHfyWE\n",
    "3. \n",
    "\n",
    "## Data\n",
    "\n",
    "In the data folder you should have some data. Import the data like you did in the previous tutorial \"exploring data\". The first step in any regression task is to explore the data the raw data.\n",
    "\n",
    "### DATA TODO \n",
    "\n",
    "1. Visualize the data in three different ways\n",
    "2. Which variables may covary? How will this effect your model?\n",
    "\n",
    "## Modeling\n",
    "\n",
    "Modeling data is as much an art as it is science. There is no \"true\" model, there is only a model that reduces error to an acceptable amount. Most models attempt to do this automatically by minimizing some sort of cost function (or error) using some kind of solver algorithm. These solving methods are beyond the scope of this workshop but are important to know they exist and somewhat how they work. If you are interested in this sort of thing I recommend starting with [this stats exchange thread](https://stats.stackexchange.com/questions/160179/do-we-need-gradient-descent-to-find-the-coefficients-of-a-linear-regression-mode) and googling each solver in the answer that seems interesting. This is only for Linear Least Squares models but its a good place to start. Moving on...\n",
    "\n",
    "### MODELING TODO\n",
    "1. split the data into training and testing data sets using the `sklearn.model_selection` method `train_test_split` [[link]](https://scikit-learn.org/stable/modules/generated/sklearn.model_selection.train_test_split.html)\n",
    "2. create an OLS model using the `sklearn.linear_model` function `LinearRegression` [[link]](https://scikit-learn.org/stable/modules/generated/sklearn.linear_model.LinearRegression.html#sklearn.linear_model.LinearRegression)\n",
    "3. score the model using your model's built in `score` method. What does this number represent? What is it summarizing?\n",
    "\n",
    "## Analysing the model output\n",
    "\n",
    "Now that we have established the goal of the model is to minimize the error, created a model, and found some brilliant amazing score for the model, we still must recognize that the model has some error. The error/residual is really just the linear distance from the model \"plane\" to the predicted value as shown below:\n",
    "\n",
    "<img src=\"https://internal.ncl.ac.uk/ask/numeracy-maths-statistics/images/Residuals.png\" />\n",
    "\n",
    "These residuals are data in their own right. But instead of being data about students, courses, etc. they are data about the model and how it is giving predictions. Thus we can use it to describe the model performance.\n",
    "\n",
    "### ANALYSING TODO\n",
    " \n",
    "1. Create predicted data using the model's `predict` method. Now make a scatter plot to compare it to the actual values and draw a diagonal through this plot. What \"shape\" does the scatter plot \"blob\" look like? Does the \"blob\" follow the diagonal line or does it deviate in some way?\n",
    "2. Write a function to calculate the residuals of the model. Plot the actual values versus the residuals using a scatter plot.\n",
    "\n",
    "## CHALLENGE\n",
    "\n",
    "1. Can you think of a model that ISNT a \"linear model\" that could be used to perform a regression? Find the `sklearn` implementation and apply it to this data.\n",
    "2. Is your new model better or worse than the model you already built? How are the residuals different?"
   ]
  }
 ],
 "metadata": {
  "kernelspec": {
   "display_name": "Python 3",
   "language": "python",
   "name": "python3"
  },
  "language_info": {
   "codemirror_mode": {
    "name": "ipython",
    "version": 3
   },
   "file_extension": ".py",
   "mimetype": "text/x-python",
   "name": "python",
   "nbconvert_exporter": "python",
   "pygments_lexer": "ipython3",
   "version": "3.6.8"
  }
 },
 "nbformat": 4,
 "nbformat_minor": 2
}
