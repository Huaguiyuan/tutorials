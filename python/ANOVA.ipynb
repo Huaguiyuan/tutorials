{
 "cells": [
  {
   "cell_type": "markdown",
   "metadata": {},
   "source": [
    "# ANOVA (Analysis of Variance)\n",
    "\n",
    "A statistical procedure used to compare two *or more* group means. \"Type\" of ANOVA depends on the number of factors (one-way or two-way) and how the participants were observed (between-subjects or repeated-measures).<br/> <img align=right src=\"http://www.statisticshowto.com/wp-content/uploads/2014/12/F_pdf.svg_.png\" width=\"250\"><img align=right src=\"http://www.statisticshowto.com/wp-content/uploads/2013/09/f-table-300x166.jpg\" width=\"300\">\n",
    "   -- Dependent Variable: Continuous<br/>\n",
    "   -- Independent Variable: Categorical\n",
    " \n",
    "<u>Hypothesis testing</u>: Significance level $p<0.05$<br/> \n",
    "Null Hypothesis ($H_0$): $\\mu_1 = \\mu_2 = ... = \\mu_k$ <br/>\n",
    "Alternate Hypothesis ($H_1$): Not $\\mu_1 = \\mu_2 = ... = \\mu_k$ <br/>\n",
    "*Note: Reject $H_0$ when $p<0.05$ and retain $H_0$ when $p<0.05$*\n",
    "\n",
    "$F=\\frac{\\text {mean squares between groups}}{\\text {mean squares within groups}}=\\frac{MS_{between}}{MS_{within}}=\\frac{SS_{between}/df_{between}}{SS_{within}/df_{within}}$ <br/> \n",
    "\n",
    "Example: 3 groups with N=53 students ($df_{between}=k-1$ and $df_{within}=N-k$)<br/>\n",
    "  - $F_{crit}(.05, 2, 50)=3.18$\n",
    "<img align=center src=\"https://image.slidesharecdn.com/ftable-110922032944-phpapp02/95/ftable-4-728.jpg?cb=1316662217\" width=\"800\"> \n",
    "\n",
    "\n",
    "\n"
   ]
  },
  {
   "cell_type": "markdown",
   "metadata": {},
   "source": [
    "## Dataset-The Effect of Vitamin C on Tooth Growth in Guinea Pigs\n",
    "The response is the length of odontoblasts (cells responsible for tooth growth) in 60 guinea pigs. Each animal received one of three dose levels of vitamin C (0.5, 1, and 2 mg/day) by one of two delivery methods, (orange juice or ascorbic acid (a form of vitamin C and coded as VC)."
   ]
  },
  {
   "cell_type": "code",
   "execution_count": 1,
   "metadata": {},
   "outputs": [],
   "source": [
    "import statsmodels.api as sm\n",
    "import pandas as pd\n",
    "import numpy as np\n",
    "import scipy.stats as stats\n",
    "import matplotlib.pyplot as plt\n",
    "import seaborn as sns"
   ]
  },
  {
   "cell_type": "code",
   "execution_count": 2,
   "metadata": {},
   "outputs": [
    {
     "name": "stdout",
     "output_type": "stream",
     "text": [
      "    len supp  dose\n",
      "0   4.2   VC  D0.5\n",
      "1  11.5   VC  D0.5\n",
      "2   7.3   VC  D0.5\n",
      "3   5.8   VC  D0.5\n",
      "4   6.4   VC  D0.5 \n",
      "\n",
      "Supp Groups: dict_keys(['VC', 'OJ'])\n",
      "Dose Groups: dict_keys(['D1', 'D2', 'D0.5'])\n",
      "\n",
      "N= 60\n"
     ]
    }
   ],
   "source": [
    "df = sm.datasets.get_rdataset(\"ToothGrowth\", \"datasets\").data\n",
    "df['dose'].replace(0.5, 'D0.5',inplace=True)\n",
    "df['dose'].replace(1.0, 'D1',inplace=True)\n",
    "df['dose'].replace(2.0, 'D2',inplace=True)\n",
    "\n",
    "\n",
    "print(df.head(),'\\n')\n",
    "print('Supp Groups:',df.groupby(['supp']).groups.keys())\n",
    "print('Dose Groups:',df.groupby(['dose']).groups.keys())\n",
    "print('\\nN=',len(df))"
   ]
  },
  {
   "cell_type": "markdown",
   "metadata": {},
   "source": [
    "## Assumptions of ANOVA\n",
    "1. Independence: dealt with (or should be dealth with) when designing your study\n",
    "2. Normality of data: the scores on the dependent variable are normally distributed in the population (Shapiro-Wilks test)\n",
    "3. Homogeneity of variance: the population variances in all levels of factors are equal (Levene’s test of Homogeneity)\n",
    "\n",
    "### Normality of data\n",
    "1. Visualize: Histogram or Boxplot (QQ-plot--after defining the model)\n",
    "2. [Shapiro-Wilk test for normality](http://www.statisticshowto.com/shapiro-wilk-test/): the data was drawn from a normal distribution"
   ]
  },
  {
   "cell_type": "code",
   "execution_count": 3,
   "metadata": {},
   "outputs": [
    {
     "name": "stderr",
     "output_type": "stream",
     "text": [
      "C:\\Users\\Rachel\\Anaconda3\\lib\\site-packages\\matplotlib\\axes\\_axes.py:6462: UserWarning: The 'normed' kwarg is deprecated, and has been replaced by the 'density' kwarg.\n",
      "  warnings.warn(\"The 'normed' kwarg is deprecated, and has been \"\n"
     ]
    },
    {
     "name": "stdout",
     "output_type": "stream",
     "text": [
      "Shapiro Wilks test: (0.9674286842346191, 0.10910055041313171)\n"
     ]
    },
    {
     "data": {
      "image/png": "[encoded data removed]",
      "text/plain": [
       "<Figure size 1440x360 with 2 Axes>"
      ]
     },
     "metadata": {},
     "output_type": "display_data"
    }
   ],
   "source": [
    "fig, axs = plt.subplots(ncols=2)\n",
    "fig.set_size_inches(20, 5)\n",
    "sns.distplot(df['len'], bins=15, kde=False, ax=axs[0])\n",
    "sns.boxplot(y=\"len\", data=df, palette=\"Set1\", ax=axs[1])\n",
    "\n",
    "print('Shapiro Wilks test:', stats.shapiro(df['len']))"
   ]
  },
  {
   "cell_type": "markdown",
   "metadata": {},
   "source": [
    "### Homogeneity of variance\n",
    "1. [Levene's test for equal variances](http://www.statisticshowto.com/levene-test/)<br/>\n",
    "  \n",
    "2. [Bartlett’s test for homogeneity of variances](http://www.statisticshowto.com/bartletts-test/)"
   ]
  },
  {
   "cell_type": "code",
   "execution_count": 4,
   "metadata": {},
   "outputs": [
    {
     "name": "stdout",
     "output_type": "stream",
     "text": [
      "Supp\n",
      "Levene`s test: LeveneResult(statistic=1.2135720656945064, pvalue=0.2751764616144053)\n",
      "Bartlett`s test: BartlettResult(statistic=1.421682114943345, pvalue=0.23312673355220734)\n",
      "\n",
      "Dose\n",
      "Levene`s test: LeveneResult(statistic=0.6457341109631506, pvalue=0.5280694573759905)\n",
      "Bartlett`s test: BartlettResult(statistic=0.6654670663030519, pvalue=0.71696121509966)\n"
     ]
    }
   ],
   "source": [
    "vc = df[df['supp'] == 'VC']['len']\n",
    "oj = df[df['supp'] == 'OJ']['len']\n",
    "\n",
    "a = df[df['dose'] == 'D0.5']['len']\n",
    "b = df[df['dose'] == 'D1']['len']\n",
    "c = df[df['dose'] == \"D2\"]['len']\n",
    "\n",
    "print('Supp')\n",
    "print('Levene`s test:',stats.levene(vc,oj))\n",
    "print('Bartlett`s test:', stats.bartlett(vc,oj))\n",
    "\n",
    "print('\\nDose')\n",
    "print('Levene`s test:', stats.levene(a, b, c))\n",
    "print('Bartlett`s test:', stats.bartlett(a,b,c))"
   ]
  },
  {
   "cell_type": "markdown",
   "metadata": {},
   "source": [
    "## One Way Between-Subjects ANOVA\n",
    "\n",
    "RQ: \"Is there a difference in mean tooth length by supplement type?\" or \"Is there a difference in mean tooth length by\n",
    "dosage level?\"\n",
    "\n",
    "One *factor* with different participants at $k$ levels\n",
    "\n",
    " - Example: \"Dose\" is one factor with 3 levels"
   ]
  },
  {
   "cell_type": "code",
   "execution_count": 5,
   "metadata": {},
   "outputs": [
    {
     "name": "stdout",
     "output_type": "stream",
     "text": [
      "      count   mean   std  min    25%   50%    75%   max\n",
      "supp                                                   \n",
      "OJ     30.0  20.66  6.61  8.2  15.52  22.7  25.72  30.9\n",
      "VC     30.0  16.96  8.27  4.2  11.20  16.5  23.10  33.9 \n",
      "\n",
      "      count   mean   std   min    25%    50%    75%   max\n",
      "dose                                                     \n",
      "D0.5   20.0  10.60  4.50   4.2   7.22   9.85  12.25  21.5\n",
      "D1     20.0  19.74  4.42  13.6  16.25  19.25  23.38  27.3\n",
      "D2     20.0  26.10  3.77  18.5  23.52  25.95  27.83  33.9 \n",
      "\n"
     ]
    }
   ],
   "source": [
    "supp = df.groupby('supp')\n",
    "print(round(supp['len'].describe(),2),'\\n')\n",
    "\n",
    "dose = df.groupby('dose')\n",
    "print(round(dose['len'].describe(),2),'\\n')"
   ]
  },
  {
   "cell_type": "code",
   "execution_count": 6,
   "metadata": {},
   "outputs": [
    {
     "data": {
      "text/plain": [
       "<matplotlib.axes._subplots.AxesSubplot at 0x198ea32b8d0>"
      ]
     },
     "execution_count": 6,
     "metadata": {},
     "output_type": "execute_result"
    },
    {
     "data": {
      "image/png": "[encoded data removed]",
      "text/plain": [
       "<Figure size 1440x360 with 2 Axes>"
      ]
     },
     "metadata": {},
     "output_type": "display_data"
    }
   ],
   "source": [
    "fig, axs = plt.subplots(ncols=2)\n",
    "fig.set_size_inches(20, 5)\n",
    "sns.boxplot(x=\"supp\", y=\"len\", data=df, palette=\"Set1\",ax=axs[0])\n",
    "sns.boxplot(x=\"dose\", y=\"len\", data=df, palette=\"Set1\",ax=axs[1])"
   ]
  },
  {
   "cell_type": "code",
   "execution_count": 7,
   "metadata": {},
   "outputs": [
    {
     "name": "stdout",
     "output_type": "stream",
     "text": [
      "Supp t-test: Ttest_indResult(statistic=-1.91526826869527, pvalue=0.06039337122412849)\n",
      "Supp ANOVA: F_onewayResult(statistic=3.6682525410709697, pvalue=0.060393371224128745) \n",
      "\n",
      "Rank ANOVA: F_onewayResult(statistic=67.41573785674247, pvalue=9.532727011699946e-16) \n",
      "\n"
     ]
    }
   ],
   "source": [
    "print('Supp t-test:', stats.ttest_ind(vc, oj))\n",
    "print('Supp ANOVA:', stats.f_oneway(vc, oj),'\\n')\n",
    "\n",
    "\n",
    "print('Rank ANOVA:', stats.f_oneway(a, b, c),'\\n')"
   ]
  },
  {
   "cell_type": "code",
   "execution_count": 8,
   "metadata": {},
   "outputs": [
    {
     "name": "stdout",
     "output_type": "stream",
     "text": [
      "            df       sum_sq     mean_sq         F    PR(>F)\n",
      "supp       1.0   205.350000  205.350000  3.668253  0.060393\n",
      "Residual  58.0  3246.859333   55.980333       NaN       NaN \n",
      "\n",
      "            df       sum_sq      mean_sq          F        PR(>F)\n",
      "dose       2.0  2426.434333  1213.217167  67.415738  9.532727e-16\n",
      "Residual  57.0  1025.775000    17.996053        NaN           NaN \n",
      "\n",
      "0.7028641947939037 \n",
      "\n"
     ]
    }
   ],
   "source": [
    "from statsmodels.formula.api import ols\n",
    "\n",
    "mod = ols('len ~ supp',\n",
    "                data=df).fit()\n",
    "                \n",
    "aov_table = sm.stats.anova_lm(mod, typ=1)\n",
    "print(aov_table,'\\n')\n",
    "\n",
    "mod = ols('len ~ dose',\n",
    "                data=df).fit()\n",
    "                \n",
    "aov_table = sm.stats.anova_lm(mod, typ=1)\n",
    "print(aov_table,'\\n')\n",
    "\n",
    "esq_sm = aov_table['sum_sq'][0]/(aov_table['sum_sq'][0]+aov_table['sum_sq'][1])\n",
    "print(esq_sm, '\\n')"
   ]
  },
  {
   "cell_type": "code",
   "execution_count": 9,
   "metadata": {},
   "outputs": [
    {
     "name": "stdout",
     "output_type": "stream",
     "text": [
      "Multiple Comparison of Means - Tukey HSD,FWER=0.05\n",
      "=============================================\n",
      "group1 group2 meandiff  lower   upper  reject\n",
      "---------------------------------------------\n",
      " D0.5    D1     9.13    5.9018 12.3582  True \n",
      " D0.5    D2    15.495  12.2668 18.7232  True \n",
      "  D1     D2    6.365    3.1368  9.5932  True \n",
      "---------------------------------------------\n"
     ]
    }
   ],
   "source": [
    "from statsmodels.stats.multicomp import pairwise_tukeyhsd\n",
    "from statsmodels.stats.multicomp import MultiComparison\n",
    "\n",
    "mc = MultiComparison(df['len'], df['dose'])\n",
    "result = mc.tukeyhsd()\n",
    " \n",
    "print(result)"
   ]
  },
  {
   "cell_type": "markdown",
   "metadata": {},
   "source": [
    "## Two-Way Between Subjects ANOVA \n",
    "\n",
    "RQ: \"Is there a difference in mean tooth length for differing supplement type and dosage levels?\"\n",
    "\n",
    "Two *factors* with different participants at $k$ levels\n",
    "\n",
    "*Note: Two-Way ANOVA has main effects and an interaction effect (differences between the differences).*"
   ]
  },
  {
   "cell_type": "code",
   "execution_count": 10,
   "metadata": {},
   "outputs": [
    {
     "data": {
      "text/plain": [
       "<matplotlib.axes._subplots.AxesSubplot at 0x198ea648ef0>"
      ]
     },
     "execution_count": 10,
     "metadata": {},
     "output_type": "execute_result"
    },
    {
     "data": {
      "image/png": "[encoded data removed]",
      "text/plain": [
       "<Figure size 432x288 with 1 Axes>"
      ]
     },
     "metadata": {},
     "output_type": "display_data"
    }
   ],
   "source": [
    "sns.boxplot(x=\"dose\", y=\"len\", hue=\"supp\", data=df, palette=\"Set1\")"
   ]
  },
  {
   "cell_type": "code",
   "execution_count": 11,
   "metadata": {},
   "outputs": [
    {
     "name": "stdout",
     "output_type": "stream",
     "text": [
      "            df       sum_sq     mean_sq         F    PR(>F)\n",
      "C(supp)    1.0   205.350000  205.350000  3.668253  0.060393\n",
      "Residual  58.0  3246.859333   55.980333       NaN       NaN \n",
      "\n",
      "            df      sum_sq     mean_sq         F   PR(>F)\n",
      "C(supp)    1.0   205.35000   205.35000  14.01664  0.00043\n",
      "C(dose)    2.0  2426.43433  1213.21717  82.81093  0.00000\n",
      "Residual  56.0   820.42500    14.65045       NaN      NaN \n",
      "\n",
      "                   df      sum_sq     mean_sq         F   PR(>F)\n",
      "C(supp)           1.0   205.35000   205.35000  15.57198  0.00023\n",
      "C(dose)           2.0  2426.43433  1213.21717  91.99996  0.00000\n",
      "C(supp):C(dose)   2.0   108.31900    54.15950   4.10699  0.02186\n",
      "Residual         54.0   712.10600    13.18715       NaN      NaN \n",
      "\n"
     ]
    }
   ],
   "source": [
    "from statsmodels.stats.anova import anova_lm\n",
    "formula = 'len ~ C(supp)'\n",
    "model = ols(formula, df).fit()\n",
    "aov_table = anova_lm(model, typ=1)\n",
    "print(aov_table,'\\n')\n",
    "\n",
    "formula = 'len ~ C(supp) + C(dose)'\n",
    "model = ols(formula, df).fit()\n",
    "aov_table = round(anova_lm(model, typ=1),5)\n",
    "print(aov_table,'\\n')\n",
    "\n",
    "\n",
    "formula = 'len ~ C(supp) + C(dose)+ C(supp):C(dose)'\n",
    "model = ols(formula, df).fit()\n",
    "aov_table = round(anova_lm(model, typ=1),5)\n",
    "print(aov_table,'\\n')"
   ]
  },
  {
   "cell_type": "code",
   "execution_count": 12,
   "metadata": {},
   "outputs": [
    {
     "data": {
      "image/png": "[encoded data removed]",
      "text/plain": [
       "<Figure size 432x288 with 1 Axes>"
      ]
     },
     "metadata": {},
     "output_type": "display_data"
    }
   ],
   "source": [
    "from statsmodels.graphics.factorplots import interaction_plot\n",
    "fig = interaction_plot(df['dose'], df['supp'], df['len'], colors=['red','blue'])"
   ]
  },
  {
   "cell_type": "markdown",
   "metadata": {},
   "source": [
    "## Within-Subjects Design (a.k.a Repeated Measures ANOVA)\n",
    "One (or two) factor(s) with the <u>same</u> participants at each level of the factor(s)"
   ]
  },
  {
   "cell_type": "markdown",
   "metadata": {},
   "source": [
    "## Dataset-Weight Loss Data\n",
    "Contrived data on weight loss and self esteem over three months, for three groups of individuals:\n",
    "Control, Diet and Diet + Exercise."
   ]
  },
  {
   "cell_type": "code",
   "execution_count": 1,
   "metadata": {},
   "outputs": [
    {
     "name": "stderr",
     "output_type": "stream",
     "text": [
      "Loading required package: carData\n"
     ]
    },
    {
     "data": {
      "text/html": [
       "34"
      ],
      "text/latex": [
       "34"
      ],
      "text/markdown": [
       "34"
      ],
      "text/plain": [
       "[1] 34"
      ]
     },
     "metadata": {},
     "output_type": "display_data"
    },
    {
     "name": "stdout",
     "output_type": "stream",
     "text": [
      "     group wl1 wl2 wl3 se1 se2 se3 NormID\n",
      "1  Control   4   3   3  14  13  15      1\n",
      "2  Control   4   4   3  13  14  17      2\n",
      "3  Control   4   3   1  17  12  16      3\n",
      "4  Control   3   2   1  11  11  12      4\n",
      "5  Control   5   3   2  16  15  14      5\n",
      "6  Control   6   5   4  17  18  18      6\n",
      "7  Control   6   5   4  17  16  19      7\n",
      "8  Control   5   4   1  13  15  15      8\n",
      "9  Control   5   4   1  14  14  15      9\n",
      "10 Control   3   3   2  14  15  13     10\n",
      "11 Control   4   2   2  16  16  11     11\n",
      "12 Control   5   2   1  15  13  16     12\n",
      "13    Diet   6   3   2  12  11  14     13\n",
      "14    Diet   5   4   1  13  14  15     14\n",
      "15    Diet   7   6   3  17  11  18     15\n",
      "[1] \"Control\" \"Diet\"    \"DietEx\" \n"
     ]
    }
   ],
   "source": [
    "require(carData)\n",
    "data<-WeightLoss\n",
    "\n",
    "data$NormID<-1:nrow(data)\n",
    "nrow(data)\n",
    "print(data[1:15,])\n",
    "data$group<-as.factor(data$group)\n",
    "print(levels(data$group))"
   ]
  },
  {
   "cell_type": "code",
   "execution_count": 3,
   "metadata": {},
   "outputs": [
    {
     "data": {
      "text/html": [
       "102"
      ],
      "text/latex": [
       "102"
      ],
      "text/markdown": [
       "102"
      ],
      "text/plain": [
       "[1] 102"
      ]
     },
     "metadata": {},
     "output_type": "display_data"
    },
    {
     "name": "stdout",
     "output_type": "stream",
     "text": [
      "   subj group week weight.loss self.esteem\n",
      "1     1     1  wl1           4          14\n",
      "2     1     1  wl2           3          13\n",
      "3     1     1  wl3           3          15\n",
      "4     2     1  wl1           4          13\n",
      "5     2     1  wl2           4          14\n",
      "6     2     1  wl3           3          17\n",
      "7     3     1  wl1           4          17\n",
      "8     3     1  wl2           3          12\n",
      "9     3     1  wl3           1          16\n",
      "10    4     1  wl1           3          11\n",
      "11    4     1  wl2           2          11\n",
      "12    4     1  wl3           1          12\n",
      "13    5     1  wl1           5          16\n",
      "14    5     1  wl2           3          15\n",
      "15    5     1  wl3           2          14\n"
     ]
    }
   ],
   "source": [
    "subj<-c()\n",
    "group<-c()\n",
    "week<-c()\n",
    "weight.loss<-c()\n",
    "self.esteem<-c()\n",
    "\n",
    "wl<-c(\"wl1\", \"wl2\", \"wl3\")\n",
    "se<-c(\"se1\", \"se2\", \"se3\")\n",
    "\n",
    "for(i in 1:nrow(data)){\n",
    "  for(j in 1:length(se)){\n",
    "    subj<-c(subj, data$NormID[i])\n",
    "    group<-c(group, data$group[i])\n",
    "    week<-c(week, wl[j])\n",
    "    weight.loss<-c(weight.loss, data[i, wl[j]])\n",
    "    self.esteem<-c(self.esteem, data[i, se[j]])\n",
    "  }\n",
    "}\n",
    "\n",
    "df<-data.frame(subj, group, week, weight.loss, self.esteem)\n",
    "nrow(df)\n",
    "print(df[1:15,])"
   ]
  },
  {
   "cell_type": "markdown",
   "metadata": {},
   "source": [
    "### One-Way Within-Subjects ANOVA "
   ]
  },
  {
   "cell_type": "code",
   "execution_count": 4,
   "metadata": {},
   "outputs": [
    {
     "name": "stdout",
     "output_type": "stream",
     "text": [
      "Weight Loss\n",
      "Error: subj\n",
      "          Df Sum Sq Mean Sq F value Pr(>F)\n",
      "Residuals  1  35.82   35.82               \n",
      "\n",
      "Error: subj:week\n",
      "     Df Sum Sq Mean Sq\n",
      "week  2  174.6   87.31\n",
      "\n",
      "Error: Within\n",
      "          Df Sum Sq Mean Sq F value Pr(>F)  \n",
      "week       2   15.8   7.898   4.179 0.0182 *\n",
      "Residuals 96  181.4   1.890                 \n",
      "---\n",
      "Signif. codes:  0 '***' 0.001 '**' 0.01 '*' 0.05 '.' 0.1 ' ' 1\n",
      "\n",
      "Self-Esteem\n",
      "Error: subj\n",
      "          Df Sum Sq Mean Sq F value Pr(>F)\n",
      "Residuals  1  17.04   17.04               \n",
      "\n",
      "Error: subj:week\n",
      "     Df Sum Sq Mean Sq\n",
      "week  2  111.5   55.77\n",
      "\n",
      "Error: Within\n",
      "          Df Sum Sq Mean Sq F value Pr(>F)\n",
      "week       2    1.7   0.832   0.189  0.828\n",
      "Residuals 96  421.7   4.393               \n"
     ]
    }
   ],
   "source": [
    "cat(\"Weight Loss\")\n",
    "fit <- aov(weight.loss ~ week+Error(subj/week), data=df)\n",
    "print(summary(fit))\n",
    "\n",
    "cat(\"\\nSelf-Esteem\")\n",
    "fit <- aov(self.esteem ~ week+Error(subj/week), data=df)\n",
    "print(summary(fit))"
   ]
  },
  {
   "cell_type": "markdown",
   "metadata": {},
   "source": [
    "### Two-Way Within-Subjects ANOVA "
   ]
  },
  {
   "cell_type": "code",
   "execution_count": 5,
   "metadata": {},
   "outputs": [
    {
     "name": "stdout",
     "output_type": "stream",
     "text": [
      "Weight Loss\n",
      "Error: subj\n",
      "      Df Sum Sq Mean Sq\n",
      "group  1  35.82   35.82\n",
      "\n",
      "Error: subj:week\n",
      "     Df Sum Sq Mean Sq\n",
      "week  2  174.6   87.31\n",
      "\n",
      "Error: Within\n",
      "           Df Sum Sq Mean Sq F value Pr(>F)  \n",
      "week        2  15.80   7.898   4.198  0.018 *\n",
      "group       1   2.13   2.135   1.135  0.290  \n",
      "week:group  2   4.31   2.156   1.146  0.322  \n",
      "Residuals  93 174.97   1.881                 \n",
      "---\n",
      "Signif. codes:  0 '***' 0.001 '**' 0.01 '*' 0.05 '.' 0.1 ' ' 1\n",
      "\n",
      "Self-Esteem\n",
      "Error: subj\n",
      "      Df Sum Sq Mean Sq\n",
      "group  1  17.04   17.04\n",
      "\n",
      "Error: subj:week\n",
      "     Df Sum Sq Mean Sq\n",
      "week  2  111.5   55.77\n",
      "\n",
      "Error: Within\n",
      "           Df Sum Sq Mean Sq F value Pr(>F)  \n",
      "week        2    1.7   0.832   0.210 0.8112  \n",
      "group       1   15.2  15.157   3.821 0.0536 .\n",
      "week:group  2   37.7  18.842   4.750 0.0109 *\n",
      "Residuals  93  368.9   3.967                 \n",
      "---\n",
      "Signif. codes:  0 '***' 0.001 '**' 0.01 '*' 0.05 '.' 0.1 ' ' 1\n"
     ]
    }
   ],
   "source": [
    "cat(\"Weight Loss\")\n",
    "fit <- aov(weight.loss ~ week*group+Error(subj/(week)), data=df)\n",
    "print(summary(fit))\n",
    "\n",
    "cat(\"\\nSelf-Esteem\")\n",
    "fit <- aov(self.esteem ~ week*group+Error(subj/(week)), data=df)\n",
    "print(summary(fit))"
   ]
  },
  {
   "cell_type": "code",
   "execution_count": null,
   "metadata": {},
   "outputs": [],
   "source": []
  }
 ],
 "metadata": {
  "kernelspec": {
   "display_name": "Python 3",
   "language": "python",
   "name": "python3"
  },
  "language_info": {
   "codemirror_mode": {
    "name": "ipython",
    "version": 3
   },
   "file_extension": ".py",
   "mimetype": "text/x-python",
   "name": "python",
   "nbconvert_exporter": "python",
   "pygments_lexer": "ipython3",
   "version": "3.5.5"
  }
 },
 "nbformat": 4,
 "nbformat_minor": 2
}
