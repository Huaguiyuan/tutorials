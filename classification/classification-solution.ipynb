{
 "cells": [
  {
   "cell_type": "markdown",
   "metadata": {},
   "source": [
    "# Classification \n",
    "\n",
    "Classification modelling is a branch of machine learning concerned with separating sets of objects.\n",
    "\n",
    "To do this we usually want to predict from a vector $\\mathbf{x}$ what class it belongs to, $y$. The class can be different species of dog, different human faces, the phase of a thermodynamic system to name a few. In this example you'll be working with simulated student data to predict whether they get a pass or fail grade with three different models. \n",
    "\n",
    "Your learning goals for this project is: \n",
    "* Improved understanding of the `scikit-learn` pipeline for modelling, building on the regression tutorial \n",
    "* Imroved understanding of machine learning concepts: generalization, overfitting, model set, feature scale, and class bias\n",
    "* Understanding the difference between linear and non-linear models \n",
    "* Understanding some important classification measurements: Area under Curve, Reciever Operator Characteristic, Precision, Recall \n",
    "* Understanding the goal of classification modelling"
   ]
  },
  {
   "cell_type": "markdown",
   "metadata": {},
   "source": [
    "## Further Reading: \n",
    "\n",
    "\n",
    "1. A high-bias, low-variance introduction to machine learning, a good introduction for physicists to machine learning concepts https://arxiv.org/abs/1803.08823\n",
    "2. The Elements of Statistical Learning, a very good textbook giving an introduction to much of the theory used in machine learning https://web.stanford.edu/~hastie/Papers/ESLII.pdf"
   ]
  },
  {
   "cell_type": "markdown",
   "metadata": {},
   "source": [
    "# Classifying failure in a class\n",
    "\n",
    "In this project the aim is to predict whether a studen fails or passes a course. The data has the following columns:\n",
    "\n",
    "*         \"cGPA\": college GPA \n",
    "*        \"attendance\": attendance percent\n",
    "*       \"passed_percent\": percent of courses passed\n",
    "*      \"sex\": self reported sex of the student\n",
    "*     \"hsGPA\": high school GPA\n",
    "*    \"ethnicity\": self reported ethnic identity of the student\n",
    "*   \"failed_course\": whether the student failed the course (1) or not (0)"
   ]
  },
  {
   "cell_type": "code",
   "execution_count": 109,
   "metadata": {},
   "outputs": [],
   "source": [
    "import pandas as pd\n",
    "import numpy as np\n",
    "\n",
    "import matplotlib.pyplot as plt\n",
    "import seaborn as sns\n",
    "\n",
    "from sklearn.model_selection import train_test_split\n",
    "from sklearn.linear_model import SGDClassifier\n",
    "from sklearn.metrics import roc_curve, roc_auc_score, accuracy_score, cohen_kappa_score\n",
    "\n",
    "from scipy.stats import spearmanr, pearsonr\n",
    "\n",
    "def calculate_pvalues(df,\n",
    "                      method = spearmanr\n",
    "                     ):\n",
    "    \"\"\"\n",
    "    Assumes df with only numeric entries clean of null entries. \n",
    "    \"\"\"\n",
    "    dfcols = pd.DataFrame(columns=df.columns)\n",
    "    pvalues = dfcols.transpose().join(dfcols, how='outer')\n",
    "    for r in df.columns:\n",
    "        for c in df.columns:\n",
    "            pvalues[r][c] = round(method(df[r], df[c])[1], 4)\n",
    "    return pvalues\n",
    "\n",
    "def correlation_matrix(df,\n",
    "                       method = \"pearson\",\n",
    "                       annot_bool = False,\n",
    "                       annot_size = 20\n",
    "                      ):\n",
    "    # Compute the correlation matrix\n",
    "    corr = df.corr(method = method)\n",
    "\n",
    "    if annot_bool:\n",
    "        annot = corr.copy()\n",
    "        \n",
    "        if method == \"pearson\":\n",
    "            sig_meth = pearsonr\n",
    "        else:\n",
    "            sig_meth = spearmanr\n",
    "            \n",
    "        pval = calculate_pvalues(df, sig_meth) \n",
    "        # create three masks\n",
    "        r0 = corr.applymap(lambda x: '{:.2f}'.format(x))\n",
    "        r1 = corr.applymap(lambda x: '{:.2f}*'.format(x))\n",
    "        r2 = corr.applymap(lambda x: '{:.2f}**'.format(x))\n",
    "        r3 = corr.applymap(lambda x: '{:.2f}***'.format(x))\n",
    "  \n",
    "        # apply them where appropriate --this could be a single liner\n",
    "        annot = annot.where(pval>0.1,r0)\n",
    "        annot = annot.where(pval<=0.1,r1)\n",
    "        annot = annot.where(pval<=0.05,r2)\n",
    "        annot = annot.mask(pval<=0.01,r3)\n",
    "\n",
    "    # Generate a mask for the upper triangle\n",
    "    mask = np.zeros_like(corr, dtype=np.bool)\n",
    "    mask[np.triu_indices_from(mask)] = True\n",
    "\n",
    "    # Set up the matplotlib figure\n",
    "    f, ax = plt.subplots(figsize=(11, 11))\n",
    "\n",
    "    # Generate a custom diverging colormap\n",
    "    cmap = sns.diverging_palette(220, 10, as_cmap=True)\n",
    "\n",
    "    # Draw the heatmap with the mask and correct aspect ratio\n",
    "    sns.heatmap(corr, mask=mask, cmap=cmap, center=0,\n",
    "                square=True, linewidths=.5, cbar_kws={\"shrink\": .5},\n",
    "                annot = annot,\n",
    "                fmt = \"\",\n",
    "                annot_kws={\"size\": annot_size},\n",
    "                vmin = -1,\n",
    "                vmax = 1,\n",
    "               )"
   ]
  },
  {
   "cell_type": "markdown",
   "metadata": {},
   "source": [
    "## Data\n",
    "\n",
    "The data is included in the `data` folder in a python pickle file-format. Pandas has a function to read this data into a data-frame; `pd.read_pickle(file_name)`. If you prefer not to load files from an untrusted source the data can be generated from the associated notebook. \n",
    "\n",
    "#### filename: `classification_data.pkl`\n",
    "\n"
   ]
  },
  {
   "cell_type": "code",
   "execution_count": 4,
   "metadata": {},
   "outputs": [],
   "source": [
    "df = pd.read_pickle(\"./data/classification_data.pkl\")"
   ]
  },
  {
   "cell_type": "markdown",
   "metadata": {},
   "source": [
    "### Task 1a:  Exploration\n",
    "Prior to any modelling it is important to understand the type of data you're working with. Many models behave differently under differently scaled features, as well explore later in this project. And some models have different implications for interpretability under multicolinearity in the features. Logistic Regression (LR), perhaps the most simple classifying algorithm, is one such. In LR the coefficients can be interpreted as the change in log odds for a given feature. What does this mean for a feature which can be expressed as a linear combination of others in the same system? As such the use of data exploration, and preprocessing tools like principal component analysis etc. is vital both for performance and in some cases completely necessary for interpretability of the model.  \n",
    "\n",
    "In this task you should:\n",
    "1. visualize all the features and their distributions. \n",
    "2. Like in the regression task you should also investigate the covariance matrix. Will covariance have a different impact for classification than for regression? What models will it impact? \n",
    "3. Visualize the class distribution the dependent variable: `failed_course`. What challenges does this distribution pose, if any? "
   ]
  },
  {
   "cell_type": "code",
   "execution_count": 5,
   "metadata": {},
   "outputs": [
    {
     "data": {
      "text/html": [
       "<div>\n",
       "<style scoped>\n",
       "    .dataframe tbody tr th:only-of-type {\n",
       "        vertical-align: middle;\n",
       "    }\n",
       "\n",
       "    .dataframe tbody tr th {\n",
       "        vertical-align: top;\n",
       "    }\n",
       "\n",
       "    .dataframe thead th {\n",
       "        text-align: right;\n",
       "    }\n",
       "</style>\n",
       "<table border=\"1\" class=\"dataframe\">\n",
       "  <thead>\n",
       "    <tr style=\"text-align: right;\">\n",
       "      <th></th>\n",
       "      <th>cGPA</th>\n",
       "      <th>attendance</th>\n",
       "      <th>passed_percent</th>\n",
       "      <th>sex</th>\n",
       "      <th>hsGPA</th>\n",
       "      <th>ethnicity</th>\n",
       "      <th>failed_course</th>\n",
       "    </tr>\n",
       "  </thead>\n",
       "  <tbody>\n",
       "    <tr>\n",
       "      <th>0</th>\n",
       "      <td>2.804237</td>\n",
       "      <td>20.729776</td>\n",
       "      <td>44.264054</td>\n",
       "      <td>0.0</td>\n",
       "      <td>1.133759</td>\n",
       "      <td>2.0</td>\n",
       "      <td>0.0</td>\n",
       "    </tr>\n",
       "    <tr>\n",
       "      <th>1</th>\n",
       "      <td>2.801956</td>\n",
       "      <td>35.256924</td>\n",
       "      <td>45.859841</td>\n",
       "      <td>1.0</td>\n",
       "      <td>0.221757</td>\n",
       "      <td>0.0</td>\n",
       "      <td>0.0</td>\n",
       "    </tr>\n",
       "    <tr>\n",
       "      <th>2</th>\n",
       "      <td>2.707675</td>\n",
       "      <td>30.902179</td>\n",
       "      <td>59.624675</td>\n",
       "      <td>1.0</td>\n",
       "      <td>2.699268</td>\n",
       "      <td>0.0</td>\n",
       "      <td>0.0</td>\n",
       "    </tr>\n",
       "    <tr>\n",
       "      <th>3</th>\n",
       "      <td>2.430461</td>\n",
       "      <td>35.741390</td>\n",
       "      <td>79.016129</td>\n",
       "      <td>1.0</td>\n",
       "      <td>1.709618</td>\n",
       "      <td>1.0</td>\n",
       "      <td>0.0</td>\n",
       "    </tr>\n",
       "    <tr>\n",
       "      <th>4</th>\n",
       "      <td>2.715655</td>\n",
       "      <td>32.691236</td>\n",
       "      <td>76.988142</td>\n",
       "      <td>1.0</td>\n",
       "      <td>2.121771</td>\n",
       "      <td>2.0</td>\n",
       "      <td>0.0</td>\n",
       "    </tr>\n",
       "  </tbody>\n",
       "</table>\n",
       "</div>"
      ],
      "text/plain": [
       "       cGPA  attendance  passed_percent  sex     hsGPA  ethnicity  \\\n",
       "0  2.804237   20.729776       44.264054  0.0  1.133759        2.0   \n",
       "1  2.801956   35.256924       45.859841  1.0  0.221757        0.0   \n",
       "2  2.707675   30.902179       59.624675  1.0  2.699268        0.0   \n",
       "3  2.430461   35.741390       79.016129  1.0  1.709618        1.0   \n",
       "4  2.715655   32.691236       76.988142  1.0  2.121771        2.0   \n",
       "\n",
       "   failed_course  \n",
       "0            0.0  \n",
       "1            0.0  \n",
       "2            0.0  \n",
       "3            0.0  \n",
       "4            0.0  "
      ]
     },
     "execution_count": 5,
     "metadata": {},
     "output_type": "execute_result"
    }
   ],
   "source": [
    "df.head()"
   ]
  },
  {
   "cell_type": "code",
   "execution_count": 15,
   "metadata": {},
   "outputs": [
    {
     "data": {
      "image/png": "[encoded data removed]",
      "text/plain": [
       "<Figure size 720x1440 with 7 Axes>"
      ]
     },
     "metadata": {
      "needs_background": "light"
     },
     "output_type": "display_data"
    }
   ],
   "source": [
    "columns = df.columns\n",
    "fig, axs = plt.subplots(nrows=len(columns), figsize=(10, 20))\n",
    "\n",
    "for i in range(len(columns)):\n",
    "    col = columns[i]\n",
    "    ax  = axs[i]\n",
    "    n_unique = df[col].nunique()\n",
    "    if n_unique < 5:\n",
    "        kind = \"bar\"\n",
    "        df.groupby(col).count()[\"cGPA\"].plot(kind=\"bar\", ax=ax, alpha=.8)\n",
    "    else:\n",
    "        n_hist = 20       \n",
    "        df[col].plot(kind=\"hist\", bins=n_hist, ax=ax, alpha=.8)\n",
    "    ax.set_title(col)\n",
    "    \n",
    "plt.tight_layout()"
   ]
  },
  {
   "cell_type": "code",
   "execution_count": 53,
   "metadata": {},
   "outputs": [
    {
     "name": "stdout",
     "output_type": "stream",
     "text": [
      "Percent who pass: 64.22%\n"
     ]
    }
   ],
   "source": [
    "percent_passed = sum(df[\"failed_course\"] == 0)/len(df[\"failed_course\"])\n",
    "print(\"Percent who pass: {:.2f}%\".format(percent_passed*100))"
   ]
  },
  {
   "cell_type": "code",
   "execution_count": 14,
   "metadata": {},
   "outputs": [
    {
     "data": {
      "image/png": "[encoded data removed]",
      "text/plain": [
       "<Figure size 792x792 with 2 Axes>"
      ]
     },
     "metadata": {
      "needs_background": "light"
     },
     "output_type": "display_data"
    }
   ],
   "source": [
    "correlation_matrix(df, annot_bool=True, annot_size=15)"
   ]
  },
  {
   "cell_type": "markdown",
   "metadata": {},
   "source": [
    "We observe that the outcome class `failed_course` is not evenly distributed, more students pass than fail this particular course. This will inform our choice of performance metric, vanially accuracy might not be the best choice for this dataset. We also note that there  is a small, negative correlation between attendance and college GPA which might influence the interpretability of linear-model coefficients. "
   ]
  },
  {
   "cell_type": "markdown",
   "metadata": {},
   "source": [
    "### Task 1b: Scaling\n",
    "A major part of data analysis and modelling is being aware of the impacts of the distribtions of values in the features on a given model. As an example consider a neural network with a sigmoid activation, values above or below ~4 asymptotically approach 1 or -1 respectively. A feature distributed as $x $~$\\mathcal{N}(\\mu=100, \\sigma=2) $ for example will then have the same activation for all values of x, which leads to the model being unable to learn anything from that feature. This applies to Logistic Regression as well which also uses the logistic sigmoid function. Scaling enables much faster learning from features originally outside the \"range\" of the function.\n"
   ]
  },
  {
   "cell_type": "code",
   "execution_count": 18,
   "metadata": {},
   "outputs": [
    {
     "data": {
      "image/png": "[encoded data removed]",
      "text/plain": [
       "<Figure size 432x288 with 1 Axes>"
      ]
     },
     "metadata": {
      "needs_background": "light"
     },
     "output_type": "display_data"
    }
   ],
   "source": [
    "import matplotlib.pyplot as plt\n",
    "import numpy as np\n",
    "\n",
    "def logistic(x): return 1/(1 + np.exp(-x))\n",
    "\n",
    "x = np.linspace(-6, 6)\n",
    "y = logistic(x)\n",
    "\n",
    "plt.plot(x, y, label=r\"$f(x) = \\frac{1}{1+e^{-x}}$\", linewidth=2)\n",
    "plt.yticks([])\n",
    "plt.xlabel(\"arb. units\")\n",
    "plt.legend(fontsize=18)\n",
    "plt.title(\"A figure showing a sigmoid function of one variable\")\n",
    "plt.show()"
   ]
  },
  {
   "cell_type": "markdown",
   "metadata": {},
   "source": [
    "\n",
    "For this task you should:\n",
    "1. consider which features are suitable for scaling\n",
    "2. consider the z-scaling function: $f(x) = \\frac{x - \\mu}{\\sigma}$ where $\\mu=\\langle x \\rangle$ and $\\sigma^2= \\langle x^2 \\rangle - \\langle x \\rangle^2$. What impact does this function have on a normally distributed feature $x $~$N(\\mu, \\sigma^2)$? (you don't have to solve this by pen and paper - empirically showing by plotting is fine)\n",
    "3. Scale suitable features with a z-scaling function. Keep a copy of the unscaled data.\n"
   ]
  },
  {
   "cell_type": "markdown",
   "metadata": {},
   "source": [
    "The non-categorical features shold be scaled, they are: \n",
    "* `cGPA`\n",
    "* `attendance`\n",
    "* `hsGPA`\n",
    "* `passed_percent`"
   ]
  },
  {
   "cell_type": "markdown",
   "metadata": {},
   "source": [
    "The  z-scaling function transforms any normally distributed variable to a zero mean, unit variance gaussian. We demonstrate this by scaling a distribution with $\\mu = 50$, $\\sigma = 5$"
   ]
  },
  {
   "cell_type": "code",
   "execution_count": 31,
   "metadata": {},
   "outputs": [
    {
     "data": {
      "text/plain": [
       "Text(0.5, 0, 'arb. units')"
      ]
     },
     "execution_count": 31,
     "metadata": {},
     "output_type": "execute_result"
    },
    {
     "data": {
      "image/png": "[encoded data removed]",
      "text/plain": [
       "<Figure size 1080x576 with 1 Axes>"
      ]
     },
     "metadata": {
      "needs_background": "light"
     },
     "output_type": "display_data"
    }
   ],
   "source": [
    "#normal distribution with \n",
    "\n",
    "fig, axs = plt.subplots(1, figsize=(15, 8))\n",
    "norm = np.random.normal(50, 5, size=10000)\n",
    "mu_1 = norm.mean()\n",
    "sigma_1 = norm.std()\n",
    "\n",
    "axs.hist(\n",
    "    norm,\n",
    "    bins=50,\n",
    "    alpha=.8,\n",
    "    label=r\"$\\mu=${:.2f}, $\\sigma=${:.2f}\".format(mu_1, sigma_1),\n",
    ")\n",
    "\n",
    "scaled = (norm-mu_1)/sigma_1\n",
    "mu_2 = scaled.mean()\n",
    "sigma_2 = scaled.std()\n",
    "\n",
    "axs.hist(\n",
    "    scaled,\n",
    "    bins=50,\n",
    "    alpha=.8,\n",
    "    label=r\"$\\mu=${:.2f}, $\\sigma=${:.2f}\".format(mu_2, sigma_2),\n",
    ")\n",
    "\n",
    "axs.legend()\n",
    "axs.set_title(\"Plot showing the effect of the z-scaling function on a normal distribution\")\n",
    "axs.set_yticks([])\n",
    "axs.set_xlabel(\"arb. units\")\n"
   ]
  },
  {
   "cell_type": "code",
   "execution_count": 36,
   "metadata": {},
   "outputs": [],
   "source": [
    "def z_scale(x): return (x - x.mean())/x.std()\n",
    "\n",
    "scaled_df = df.copy()\n",
    "to_scale = [\n",
    "    \"cGPA\",\n",
    "    \"attendance\",\n",
    "    \"hsGPA\",\n",
    "    \"passed_percent\"\n",
    "]\n",
    "\n",
    "for c in to_scale:\n",
    "    unscaled_feature = df[c].values\n",
    "    scaled_feature = z_scale(unscaled_feature)\n",
    "    scaled_df[c] = scaled_feature"
   ]
  },
  {
   "cell_type": "code",
   "execution_count": 37,
   "metadata": {},
   "outputs": [
    {
     "data": {
      "text/html": [
       "<div>\n",
       "<style scoped>\n",
       "    .dataframe tbody tr th:only-of-type {\n",
       "        vertical-align: middle;\n",
       "    }\n",
       "\n",
       "    .dataframe tbody tr th {\n",
       "        vertical-align: top;\n",
       "    }\n",
       "\n",
       "    .dataframe thead th {\n",
       "        text-align: right;\n",
       "    }\n",
       "</style>\n",
       "<table border=\"1\" class=\"dataframe\">\n",
       "  <thead>\n",
       "    <tr style=\"text-align: right;\">\n",
       "      <th></th>\n",
       "      <th>cGPA</th>\n",
       "      <th>attendance</th>\n",
       "      <th>passed_percent</th>\n",
       "      <th>sex</th>\n",
       "      <th>hsGPA</th>\n",
       "      <th>ethnicity</th>\n",
       "      <th>failed_course</th>\n",
       "    </tr>\n",
       "  </thead>\n",
       "  <tbody>\n",
       "    <tr>\n",
       "      <th>count</th>\n",
       "      <td>4.000000e+03</td>\n",
       "      <td>4.000000e+03</td>\n",
       "      <td>4.000000e+03</td>\n",
       "      <td>4000.000000</td>\n",
       "      <td>4.000000e+03</td>\n",
       "      <td>4000.00000</td>\n",
       "      <td>4000.000000</td>\n",
       "    </tr>\n",
       "    <tr>\n",
       "      <th>mean</th>\n",
       "      <td>-1.847411e-16</td>\n",
       "      <td>-3.410605e-16</td>\n",
       "      <td>-1.776357e-16</td>\n",
       "      <td>0.497250</td>\n",
       "      <td>7.105427e-18</td>\n",
       "      <td>1.25000</td>\n",
       "      <td>0.357750</td>\n",
       "    </tr>\n",
       "    <tr>\n",
       "      <th>std</th>\n",
       "      <td>1.000125e+00</td>\n",
       "      <td>1.000125e+00</td>\n",
       "      <td>1.000125e+00</td>\n",
       "      <td>0.500055</td>\n",
       "      <td>1.000125e+00</td>\n",
       "      <td>0.82926</td>\n",
       "      <td>0.479398</td>\n",
       "    </tr>\n",
       "    <tr>\n",
       "      <th>min</th>\n",
       "      <td>-4.760271e+00</td>\n",
       "      <td>-3.098315e+00</td>\n",
       "      <td>-3.991237e+00</td>\n",
       "      <td>0.000000</td>\n",
       "      <td>-3.112160e+00</td>\n",
       "      <td>0.00000</td>\n",
       "      <td>0.000000</td>\n",
       "    </tr>\n",
       "    <tr>\n",
       "      <th>25%</th>\n",
       "      <td>-6.435288e-01</td>\n",
       "      <td>-7.041587e-01</td>\n",
       "      <td>-6.761093e-01</td>\n",
       "      <td>0.000000</td>\n",
       "      <td>-6.662948e-01</td>\n",
       "      <td>0.75000</td>\n",
       "      <td>0.000000</td>\n",
       "    </tr>\n",
       "    <tr>\n",
       "      <th>50%</th>\n",
       "      <td>1.311288e-01</td>\n",
       "      <td>1.729381e-02</td>\n",
       "      <td>-8.950115e-02</td>\n",
       "      <td>0.000000</td>\n",
       "      <td>1.053246e-02</td>\n",
       "      <td>1.50000</td>\n",
       "      <td>0.000000</td>\n",
       "    </tr>\n",
       "    <tr>\n",
       "      <th>75%</th>\n",
       "      <td>6.663447e-01</td>\n",
       "      <td>6.807774e-01</td>\n",
       "      <td>6.619261e-01</td>\n",
       "      <td>1.000000</td>\n",
       "      <td>6.477297e-01</td>\n",
       "      <td>2.00000</td>\n",
       "      <td>1.000000</td>\n",
       "    </tr>\n",
       "    <tr>\n",
       "      <th>max</th>\n",
       "      <td>4.041320e+00</td>\n",
       "      <td>4.673535e+00</td>\n",
       "      <td>3.766255e+00</td>\n",
       "      <td>1.000000</td>\n",
       "      <td>4.508269e+00</td>\n",
       "      <td>2.00000</td>\n",
       "      <td>1.000000</td>\n",
       "    </tr>\n",
       "  </tbody>\n",
       "</table>\n",
       "</div>"
      ],
      "text/plain": [
       "               cGPA    attendance  passed_percent          sex         hsGPA  \\\n",
       "count  4.000000e+03  4.000000e+03    4.000000e+03  4000.000000  4.000000e+03   \n",
       "mean  -1.847411e-16 -3.410605e-16   -1.776357e-16     0.497250  7.105427e-18   \n",
       "std    1.000125e+00  1.000125e+00    1.000125e+00     0.500055  1.000125e+00   \n",
       "min   -4.760271e+00 -3.098315e+00   -3.991237e+00     0.000000 -3.112160e+00   \n",
       "25%   -6.435288e-01 -7.041587e-01   -6.761093e-01     0.000000 -6.662948e-01   \n",
       "50%    1.311288e-01  1.729381e-02   -8.950115e-02     0.000000  1.053246e-02   \n",
       "75%    6.663447e-01  6.807774e-01    6.619261e-01     1.000000  6.477297e-01   \n",
       "max    4.041320e+00  4.673535e+00    3.766255e+00     1.000000  4.508269e+00   \n",
       "\n",
       "        ethnicity  failed_course  \n",
       "count  4000.00000    4000.000000  \n",
       "mean      1.25000       0.357750  \n",
       "std       0.82926       0.479398  \n",
       "min       0.00000       0.000000  \n",
       "25%       0.75000       0.000000  \n",
       "50%       1.50000       0.000000  \n",
       "75%       2.00000       1.000000  \n",
       "max       2.00000       1.000000  "
      ]
     },
     "execution_count": 37,
     "metadata": {},
     "output_type": "execute_result"
    }
   ],
   "source": [
    "scaled_df.describe()"
   ]
  },
  {
   "cell_type": "markdown",
   "metadata": {},
   "source": [
    "## Modelling\n",
    "\n",
    "Classification models are formulated somewhat differently than regression models, but many of them actually optimize  the same problem and will have the same minimum. In that way Linear Regression solved by OLS serves as a natural bridge to the model we'll introduce, namely; Logistic Regression (Artificial Neural Networks can be used but will be introduced in a different project). A third model we'll briefly introduce, Random Forests, has a slightly different formalization, but this difference is very convenient in many cases as we'll get back to.\n",
    "\n",
    "Because of the problem of overfitting (using a more complex function to approximate a lower complexity phenomena) the data needs to be split in \"training\" and \"test\" sets. The sets are disjoint, which is to say that there is no common element to them. The training data is used to fit the model, and the test data is used to check the out-of-sample (OOS) generalization error, which measures how good we think the model will do on unseen \"real-world\" data. "
   ]
  },
  {
   "cell_type": "markdown",
   "metadata": {},
   "source": [
    "### Logistic Regression\n",
    "\n",
    "We'll build up logistic regression (LR) by first considering a simpler model: the perceptron.\n",
    "The perceptron is a linear model on the form \n",
    "\n",
    "$s_i = \\mathbf{x}^T_i \\mathbf{w} + b $\n",
    "\n",
    "Where we cast this to a discrete output by the sign of $s_i$, i.e. $f(s_i) = sign(s_i)$. This obviously simple model was introduced earliy in the second half of the 20th century and was the foundation for neural networks today. In cases with noisy data the perceptron fails miserrably as it has no notion of how likely it is that a sample is in one class or the other. It then became preferable to have a \"soft\" classifier. Which is to say a classifier with output that can be treated as a probability. One such model is the logistic regression, which uses a sigmoid function to cast a unbounded input to a probability. The logistic sigmoid function which is the one such sigmoid we'll use is formulated as: \n",
    "\n",
    "$f(s) = \\frac{1}{1 + e^{-x}}$\n",
    "\n",
    "This function is obviously bounded as $f(s) \\in [0, 1]$, making it suitable to model a probability. It also has some nice properties that is useful in that it's monotonic and approaches a linear function at the origin. To see how it links to a a probability output we consider the odds which is simply a ratio of the probability of an event to a non-event. \n",
    "\n",
    "$o(p) = \\frac{p}{1-p}$\n",
    "\n",
    "The odds of an event is  a useful quantity, but hard to model as it is bounded in $\\mathcal{R}_+$ we instead consider the log-odds, or logit:\n",
    "\n",
    "$logit(p) = \\log{(o(p))}$\n",
    "\n",
    "Which is not bounded, making it convenient to model. Additionally it ties to the logistic function as a logit input to the sigmoid is the probability of that event. \n",
    "\n",
    "$f(\\log(o(p)) = \\frac{1}{1+e^{\\log{(o(p))}}} = p$\n",
    "\n",
    "The input to the logistic function the can be interpreted as log-odds, and we then formulate logistic regression as: \n",
    "\n",
    "$P(y_i = 1 |\\mathbf{x_i}; \\mathbf{w}, b) = \\frac{1}{1+e^{\\mathbf{x}_i^T\\mathbf{w} + b}}$\n",
    "\n",
    "The above equation reads as: \n",
    "* The probability that event $y_i$ happens. Where the event could for example that a student fails a class.\n",
    "* Given a datapoint, $\\mathbf{x_i}$ containing student information like GPA, attendance, gender etc.\n",
    "* And the model parameters $\\mathbf{w}$ which are constant with regard to changing the input and output, thus we separate it with a semicolon.\n",
    "\n",
    "This formulation means that we can interpret the coefficients of our model, $\\mathbf{w}$, when fit as relative log-odds for an event, giving us a nice interpretability of our model. The fitting procedure for this model is outside the scope of this lecture, but can be found in the paper by Mehta et. al listed at the head of this notebook."
   ]
  },
  {
   "cell_type": "markdown",
   "metadata": {},
   "source": [
    "### Task 2: fitting models \n",
    "\n",
    "In this task you should: \n",
    "\n",
    "1. Using `scikit-learn` the data must be appropriately split in separate data-sets\n",
    "2. Fit a classification model from `scikit-learn` to the appropriate data (implementing this as a function is recommended)\n",
    "3. Evaluate this model using two different classification metrics. You should also plot the Reciever Operator Characteristic curve. What do they tell you? \n",
    "\n",
    "#### Extra:\n",
    "4. Evaluate whether the scaling impacts the model performance"
   ]
  },
  {
   "cell_type": "code",
   "execution_count": 54,
   "metadata": {},
   "outputs": [
    {
     "name": "stdout",
     "output_type": "stream",
     "text": [
      "Acc score: 0.72\n",
      "Cohen's Kappa: 0.43\n"
     ]
    }
   ],
   "source": [
    "data_cols = [c for c in columns if c != \"failed_course\"]\n",
    "X = df[data_cols].values\n",
    "y = df[\"failed_course\"].values\n",
    "x_train, x_test, y_train, y_test = train_test_split(X, y,)\n",
    "\n",
    "model = LogisticRegression(solver=\"lbfgs\", class_weight=\"balanced\")\n",
    "model.fit(x_train, y_train)\n",
    "\n",
    "print(\"Acc score: {:.2f}\".format(accuracy_score(y_test, model.predict(x_test))))\n",
    "print(\"Cohen's Kappa: {:.2f}\".format(cohen_kappa_score(y_test, model.predict(x_test))))"
   ]
  },
  {
   "cell_type": "markdown",
   "metadata": {},
   "source": [
    "Accuracy score just measures the percent correct predictions while Cohen's kappa can be interpreted as accuracy adjusted for chance. We separate it in levels of aggreement where $\\kappa = 0.43$ denotes moderate agreement "
   ]
  },
  {
   "cell_type": "code",
   "execution_count": 68,
   "metadata": {},
   "outputs": [
    {
     "data": {
      "text/plain": [
       "<matplotlib.legend.Legend at 0x13f1496d8>"
      ]
     },
     "execution_count": 68,
     "metadata": {},
     "output_type": "execute_result"
    },
    {
     "data": {
      "image/png": "[encoded data removed]",
      "text/plain": [
       "<Figure size 432x288 with 1 Axes>"
      ]
     },
     "metadata": {
      "needs_background": "light"
     },
     "output_type": "display_data"
    }
   ],
   "source": [
    "positive_class_prediction = model.predict_proba(x_test)[:,1]\n",
    "fpr, tpr, _ = roc_curve(y_test, positive_class_prediction)\n",
    "auc = roc_auc_score(y_test, positive_class_prediction)\n",
    "\n",
    "plt.plot(fpr, tpr, label=\"Logistic Regression: AUC = {:.2f}\".format(auc), lw=2)\n",
    "plt.ylabel(\"True Positive Rate\")\n",
    "plt.xlabel(\"False Positive Rate\")\n",
    "plt.legend()"
   ]
  },
  {
   "cell_type": "markdown",
   "metadata": {},
   "source": [
    "The reciever operator characteristic (ROC) measures the interplay between true and false positive rates as a function of the model threshold. The model threshold is the value above which we classify a prediction as one of the positive class. The default value for this is $t = 0.5$ s.t. a prediction is positive if the positive prediction column has a value greater than $t$. It is however not a priori obvious that this threshold value is a good choice, and so we plot the ROC curve to investigate this. \n",
    "\n",
    "The area under the ROC cruve (AUC) is a one-number measurement of how good the model is at identifying the positive class. "
   ]
  },
  {
   "cell_type": "markdown",
   "metadata": {},
   "source": [
    "## Tuning\n",
    "\n",
    "We usually separate the model parameters in two categories; those with which we can take a derivative with respect to, and those we cannot easily do so. If they are not explicitly optimized, i.e. of the latter variety, we call them hyperparameters and making sure they have a good value is an active area of research still as the number of such parameters grow and the computational complexity of models grow with them. For logistic regression the hyperparameters include the learning rate of the gradient descent procedure (also called gratient step size) and the regularization parameter $\\lambda$, or sometimes $C = \\frac{1}{\\lambda}$, which controls the weight of the påarameter magnitude in the optimization by adding a term $\\lambda \\cdot L_n(\\mathbf{w})$ to the loss where $L_n$ is the n-norm defined as $L_n(\\mathbf{x}) = (\\sum_i x_i^n)^{\\frac{1}{n}}$, note that $n=2$ is the ordinary euclidian distance norm. In machine learning the $L_1$, aka the  taxicab norm, and $L_2$ norms are most frequently used. The consequence of using regularization is forcing the fitting surface to be less complex and thus less likely to overfit (see Mehta et. al for details). "
   ]
  },
  {
   "cell_type": "markdown",
   "metadata": {},
   "source": [
    "### Task 3: hyperparameter search\n",
    "\n",
    "In this task you should: \n",
    "1. write your own function to do grid-search or random-search for two hyperparameters of your model. Consider the spacing for each parameter, should it be linear, logarithmic...? (hint: regularization strength is a good bet for most models).\n",
    "2. Plot or tabulate the results using a metric suited to this problem (hint: in `matplotlib.pyplot` there is a function`imshow` that can be very useful for this). \n",
    "\n",
    "#### Extra:\n",
    "3. Using `scikit-learn` add cross-validation to your hyperparameter search. Cross validation gives you a better estimate of your models performance, why? (see [this blog](https://towardsdatascience.com/cross-validation-70289113a072) for an explanation)"
   ]
  },
  {
   "cell_type": "code",
   "execution_count": 239,
   "metadata": {},
   "outputs": [],
   "source": [
    "import itertools \n",
    "\n",
    "class GridSearch:\n",
    "    \n",
    "    def search(\n",
    "        self,\n",
    "        model,\n",
    "        params_dict,\n",
    "        data,\n",
    "        default_params={},\n",
    "        score_func=accuracy_score\n",
    "        ):\n",
    "\n",
    "        names = []\n",
    "        values = []\n",
    "        x_train, x_test, y_train, y_test = data\n",
    "        performance = []\n",
    "\n",
    "        for param, val in param_dict.items():\n",
    "            names.append(param)\n",
    "            values.append(val)\n",
    "        \n",
    "        self.names = names\n",
    "        self.values = values \n",
    "\n",
    "        for combination in itertools.product(*values):\n",
    "            params = {n: v for n, v in zip(names, combination)}\n",
    "            to_save = dict(params)\n",
    "            params.update(default_params)\n",
    "            loop_model = model(**params)\n",
    "            loop_model.fit(x_train, y_train)\n",
    "            score_val = score_func(y_test, loop_model.predict(x_test))\n",
    "            performance.append((score_val, to_save))\n",
    "        \n",
    "        self.has_searched=True\n",
    "        return performance\n",
    "    \n",
    "    def plot_performance(\n",
    "        self,\n",
    "        performance,\n",
    "        ):\n",
    "        if not self.has_searched:\n",
    "            return\n",
    "        \n",
    "        array_dims = []\n",
    "        [array_dims.append(len(n)) for n in self.values]\n",
    "        n_values = [np.arange(len(n)) for n in self.values]\n",
    "        hash_table = {}\n",
    "        \n",
    "        for i, name in enumerate(self.names):\n",
    "            hash_table[name] = {v: i for v, i in zip(self.values[i], n_values[i])}\n",
    "         \n",
    "        performance_array = np.zeros(array_dims)\n",
    "        for t in performance:\n",
    "            p = t[0]\n",
    "            index = []\n",
    "            for n, v in t[1].items():\n",
    "                value_dict = hash_table[n]\n",
    "                index_value = value_dict[v]\n",
    "                index.append([index_value,])\n",
    "            performance_array[tuple(index)] = p\n",
    "            \n",
    "        if len(array_dim) != 2:\n",
    "            return performance_array\n",
    "        \n",
    "        fig, ax = plt.subplots(figsize=(7,7))\n",
    "        img = ax.imshow(performance_array,)\n",
    "        fig.colorbar(img, ax=ax)\n",
    "        ax.set_yticks(ticks=np.arange(array_dims[0]))\n",
    "        ax.set_yticklabels(self.values[0])\n",
    "        ax.set_xticks(ticks=np.arange(array_dims[1]))\n",
    "        ax.set_xticklabels(self.values[1])\n",
    "        \n",
    "        return fig, ax\n",
    "    "
   ]
  },
  {
   "cell_type": "code",
   "execution_count": 238,
   "metadata": {},
   "outputs": [
    {
     "data": {
      "text/plain": [
       "(<Figure size 504x504 with 2 Axes>,\n",
       " <matplotlib.axes._subplots.AxesSubplot at 0x13efbe320>)"
      ]
     },
     "execution_count": 238,
     "metadata": {},
     "output_type": "execute_result"
    },
    {
     "data": {
      "image/png": "[encoded data removed]",
      "text/plain": [
       "<Figure size 504x504 with 2 Axes>"
      ]
     },
     "metadata": {
      "needs_background": "light"
     },
     "output_type": "display_data"
    }
   ],
   "source": [
    "param_dict = {\n",
    "    \"eta0\": np.logspace(-5, 0, 6),\n",
    "    \"alpha\": np.logspace(-4, 2, 7),\n",
    "}\n",
    "\n",
    "default_params = {\n",
    "    \"loss\": \"log\",\n",
    "    \"max_iter\": 10000,\n",
    "    \"tol\": 1e-3,\n",
    "    \"class_weight\":\"balanced\",\n",
    "    \"early_stopping\":True\n",
    "}\n",
    "data = [\n",
    "    x_train,\n",
    "    x_test,\n",
    "    y_train, \n",
    "    y_test\n",
    "]\n",
    "\n",
    "GS = GridSearch()\n",
    "performance = GS.search(\n",
    "    SGDClassifier,\n",
    "    param_dict,\n",
    "    data,\n",
    "    default_params\n",
    ")\n",
    "GS.plot_performance(performance)"
   ]
  },
  {
   "cell_type": "markdown",
   "metadata": {},
   "source": [
    "## Analysis \n",
    "\n",
    "In classification, as in regression, the estimation of which features are _salient_ or important to the prediction is important to the analysis. The explicit procedure by which you can do this is model dependent, for logistic regression the feature weights are indicators of feature importance (think back to task 1a for reasons that might modify this). Feature elimination can then be done by explicitly checking the coefficients and greedily removing them. For models where we can't extract explicit feature importance general way of measuring feature importance is by _recursive feature elimination_ which is just a fancy name for systematically picking out features you don't need by greedily checking how well your model does without it. "
   ]
  },
  {
   "cell_type": "markdown",
   "metadata": {},
   "source": [
    "### Task 4: Recursive Feature Elimination\n",
    "\n",
    "In this task you shoud:\n",
    "\n",
    "1. Use the provided code to perform feature extraction. The method included is model agnostic but suffers from performance issues. It's completely linear, it does a greedy search over all feature combinations leading to a long running time ( it goes as $\\mathcal{O}(2^N)$ ). What ways do you see of improving this algorithm? \n"
   ]
  },
  {
   "cell_type": "code",
   "execution_count": 1,
   "metadata": {},
   "outputs": [],
   "source": [
    "from sklearn.metrics import accuracy_score\n",
    "from itertools import chain, combinations\n",
    "import numpy as np\n",
    "import sklearn\n",
    "\n",
    "\n",
    "def feature_selection(model, x_train, x_test, y_train, y_test, score=accuracy_score):\n",
    "    \"\"\"\n",
    "    arguments: \n",
    "    ----------\n",
    "    model: A model implementing .fit and .predict methods\n",
    "    x_train: a N-samples x features matrix of data to train on\n",
    "    y_train: targets to train against\n",
    "    x_test: hold out set to estimate OOS error\n",
    "    y_test: hold out targets to estimate OOS error\n",
    "    \n",
    "    kwargs:\n",
    "    score: a score function measuring model performance, must implement __call__(y_true, y_pred)\n",
    "    \n",
    "    returns:\n",
    "    which: index(indices) of the subset and performance corresponding to\n",
    "        the minimum within one std of max performance \n",
    "    model_performance: array of all scores as measured by score \n",
    "    subsets: list describing the powerset of the features\n",
    "    --------\n",
    "    \n",
    "    \"\"\"\n",
    "    \n",
    "    n_features = x_train.shape[1]\n",
    "    feature_indices = np.arange(n_features)\n",
    "    \n",
    "    #generate a powerset [abc]->[a], [b], [c], [ab], [ac], [bc], [abc]\n",
    "    #to grab the columns from x for a given experiment\n",
    "    subset_iterator = chain.from_iterable(combinations(feature_indices, i) for i in range(1, len(feature_indices)+1))\n",
    "    model_performance = np.zeros(2**n_features)\n",
    "    subsets = [0]*(2**n_features)\n",
    "\n",
    "    for i, feature_subset in enumerate(subset_iterator):\n",
    "        #select subset data\n",
    "        train_subset = x_train[:, feature_subset]\n",
    "        test_subset = x_test[:, feature_subset]\n",
    "        #clone model with hyperparams but without weights to perform fitting\n",
    "        subset_model = sklearn.base.clone(model)\n",
    "        subset_model.fit(train_subset, y_train)\n",
    "        #evaluate performance\n",
    "        subset_performance = score(y_test, subset_model.predict(test_subset))\n",
    "        \n",
    "        #save configuration and performance\n",
    "        model_performance[i] = subset_performance\n",
    "        subsets[i] = feature_subset\n",
    "    \n",
    "    performance_std = model_performance.std()\n",
    "    best_performance = model_performance.max()\n",
    "    within_one_std = model_performance > (best_performance - performance_std)\n",
    "    min_within_one_std = model_performance[within_one_std].min()\n",
    "\n",
    "    which = np.where(model_performance == min_within_one_std)\n",
    "    return which, model_performance, subsets"
   ]
  }
 ],
 "metadata": {
  "kernelspec": {
   "display_name": "Python 3",
   "language": "python",
   "name": "python3"
  },
  "language_info": {
   "codemirror_mode": {
    "name": "ipython",
    "version": 3
   },
   "file_extension": ".py",
   "mimetype": "text/x-python",
   "name": "python",
   "nbconvert_exporter": "python",
   "pygments_lexer": "ipython3",
   "version": "3.7.3"
  }
 },
 "nbformat": 4,
 "nbformat_minor": 2
}
