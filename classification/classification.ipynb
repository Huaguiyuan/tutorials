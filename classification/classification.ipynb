{
 "cells": [
  {
   "cell_type": "markdown",
   "metadata": {},
   "source": [
    "# Classification \n",
    "\n",
    "Classification modelling is a branch of machine learning concerned with separating sets of objects.\n",
    "\n",
    "To do this we usually want to predict from a vector $\\mathbf{x}$ what class it belongs to, $y$. The class can be different species of dog, different human faces, the phase of a thermodynamic system to name a few. In this example you'll be working with simulated student data to predict whether they get a pass or fail grade with three different models. \n",
    "\n",
    "Your learning goals for this project is: \n",
    "* Improved understanding of the `scikit-learn` pipeline for modelling, building on the regression tutorial \n",
    "* Imroved understanding of machine learning concepts: generalization, overfitting, model set, feature scale, and class bias\n",
    "* Understanding the difference between linear and non-linear models \n",
    "* Understanding some important classification measurements: Area under Curve, Reciever Operator Characteristic, Precision, Recall \n",
    "* Understanding the goal of classification modelling"
   ]
  },
  {
   "cell_type": "markdown",
   "metadata": {},
   "source": [
    "## Further Reading: \n",
    "\n",
    "\n",
    "1. A high-bias, low-variance introduction to machine learning, a good introduction for physicists to machine learning concepts https://arxiv.org/abs/1803.08823\n",
    "2. The Elements of Statistical Learning, a very good textbook giving an introduction to much of the theory used in machine learning https://web.stanford.edu/~hastie/Papers/ESLII.pdf"
   ]
  },
  {
   "cell_type": "markdown",
   "metadata": {},
   "source": [
    "# Classifying failure in a class\n",
    "\n",
    "In this project the aim is to predict whether a studen fails or passes a course. The data has the following columns:\n",
    "\n",
    "*         \"cGPA\": college GPA \n",
    "*        \"attendance\": attendance percent\n",
    "*       \"passed_percent\": percent of courses passed\n",
    "*      \"sex\": self reported sex of the student\n",
    "*     \"hsGPA\": high school GPA\n",
    "*    \"ethnicity\": self reported ethnic identity of the student\n",
    "*   \"failed_course\": whether the student failed the course (1) or not (0)"
   ]
  },
  {
   "cell_type": "markdown",
   "metadata": {},
   "source": [
    "## Data\n",
    "\n",
    "The data is included in the `data` folder in a python pickle file-format. Pandas has a function to read this data into a data-frame; `pd.read_csv(file_name)`. If you prefer not to load files from an untrusted source the data can be generated from the associated notebook. \n",
    "\n",
    "#### filename: `classification_data.csv`\n",
    "\n"
   ]
  },
  {
   "cell_type": "markdown",
   "metadata": {},
   "source": [
    "### Task 1a:  Exploration\n",
    "Prior to any modelling it is important to understand the type of data you're working with. Many models behave differently under differently scaled features, as well explore later in this project. And some models have different implications for interpretability under multicolinearity in the features. Logistic Regression (LR), perhaps the most simple classifying algorithm, is one such. In LR the coefficients can be interpreted as the change in log odds for a given feature. What does this mean for a feature which can be expressed as a linear combination of others in the same system? As such the use of data exploration, and preprocessing tools like principal component analysis etc. is vital both for performance and in some cases completely necessary for interpretability of the model.  \n",
    "\n",
    "In this task you should:\n",
    "1. visualize all the features and their distributions. \n",
    "2. Like in the regression task you should also investigate the covariance matrix. Will covariance have a different impact for classification than for regression? What models will it impact? \n",
    "3. Visualize the class distribution the dependent variable: `failed_course`. What challenges does this distribution pose, if any? "
   ]
  },
  {
   "cell_type": "markdown",
   "metadata": {},
   "source": [
    "### Task 1b: Scaling\n",
    "A major part of data analysis and modelling is being aware of the impacts of the distribtions of values in the features on a given model. As an example consider a neural network with a sigmoid activation, values above or below ~4 asymptotically approach 1 or -1 respectively. A feature distributed as $x $~$\\mathcal{N}(\\mu=100, \\sigma=2) $ for example will then have the same activation for all values of x, which leads to the model being unable to learn anything from that feature.\n"
   ]
  },
  {
   "cell_type": "code",
   "execution_count": 18,
   "metadata": {},
   "outputs": [
    {
     "data": {
      "image/png": "[encoded data removed]",
      "text/plain": [
       "<Figure size 432x288 with 1 Axes>"
      ]
     },
     "metadata": {
      "needs_background": "light"
     },
     "output_type": "display_data"
    }
   ],
   "source": [
    "import matplotlib.pyplot as plt\n",
    "import numpy as np\n",
    "\n",
    "def logistic(x): return 1/(1 + np.exp(-x))\n",
    "\n",
    "x = np.linspace(-6, 6)\n",
    "y = logistic(x)\n",
    "\n",
    "plt.plot(x, y, label=r\"$f(x) = \\frac{1}{1+e^{-x}}$\", linewidth=2)\n",
    "plt.yticks([])\n",
    "plt.xlabel(\"arb. units\")\n",
    "plt.legend(fontsize=18)\n",
    "plt.title(\"A figure showing a sigmoid function of one variable\")\n",
    "plt.show()"
   ]
  },
  {
   "cell_type": "markdown",
   "metadata": {},
   "source": [
    "\n",
    "For this task you should:\n",
    "1. consider which features are suitable for scaling\n",
    "2. consider the z-scaling function: $f(x) = \\frac{x - \\mu}{\\sigma}$ where $\\mu=\\langle x \\rangle$ and $\\sigma^2= \\langle x^2 \\rangle - \\langle x \\rangle^2$. What impact does this function have on a normally distributed feature $x $~$N(\\mu, \\sigma^2)$? (you don't have to solve this by pen and paper - empirically showing by plotting is fine)\n",
    "3. Scale suitable features with a z-scaling function. Keep a copy of the unscaled data.\n"
   ]
  },
  {
   "cell_type": "markdown",
   "metadata": {},
   "source": [
    "## Modelling\n",
    "\n",
    "Classification models are formulated somewhat differently than regression models, but many of them actually optimize  the same problem and will have the same minimum. In that way Linear Regression solved by OLS serves as a natural bridge to the model we'll introduce, namely; Logistic Regression (Artificial Neural Networks can be used but will be introduced in a different project). A third model we'll briefly introduce, Random Forests, has a slightly different formalization, but this difference is very convenient in many cases as we'll get back to.\n",
    "\n",
    "Because of the problem of overfitting (using a more complex function to approximate a lower complexity phenomena) the data needs to be split in \"training\" and \"test\" sets. The sets are disjoint, which is to say that there is no common element to them. The training data is used to fit the model, and the test data is used to check the out-of-sample (OOS) generalization error, which measures how good we think the model will do on unseen \"real-world\" data. "
   ]
  },
  {
   "cell_type": "markdown",
   "metadata": {},
   "source": [
    "### Logistic Regression\n",
    "\n",
    "We'll build up logistic regression (LR) by first considering a simpler model: the perceptron.\n",
    "The perceptron is a linear model on the form \n",
    "\n",
    "$s_i = \\mathbf{x}^T_i \\mathbf{w} + b $\n",
    "\n",
    "Where we cast this to a discrete output by the sign of $s_i$, i.e. $f(s_i) = sign(s_i)$. This obviously simple model was introduced earliy in the second half of the 20th century and was the foundation for neural networks today. In cases with noisy data the perceptron fails miserrably as it has no notion of how likely it is that a sample is in one class or the other. It then became preferable to have a \"soft\" classifier. Which is to say a classifier with output that can be treated as a probability. One such model is the logistic regression, which uses a sigmoid function to cast a unbounded input to a probability. The logistic sigmoid function which is the one such sigmoid we'll use is formulated as: \n",
    "\n",
    "$f(s) = \\frac{1}{1 + e^{-x}}$\n",
    "\n",
    "This function is obviously bounded as $f(s) \\in [0, 1]$, making it suitable to model a probability. It also has some nice properties that is useful in that it's monotonic and approaches a linear function at the origin. To see how it links to a a probability output we consider the odds which is simply a ratio of the probability of an event to a non-event. \n",
    "\n",
    "$o(p) = \\frac{p}{1-p}$\n",
    "\n",
    "The odds of an event is  a useful quantity, but hard to model as it is bounded in $\\mathcal{R}_+$ we instead consider the log-odds, or logit:\n",
    "\n",
    "$logit(p) = \\log{(o(p))}$\n",
    "\n",
    "Which is not bounded, making it convenient to model. Additionally it ties to the logistic function as a logit input to the sigmoid is the probability of that event. \n",
    "\n",
    "$f(\\log(o(p)) = \\frac{1}{1+e^{\\log{(o(p))}}} = p$\n",
    "\n",
    "The input to the logistic function the can be interpreted as log-odds, and we then formulate logistic regression as: \n",
    "\n",
    "$P(y_i = 1 |\\mathbf{x_i}; \\mathbf{w}, b) = \\frac{1}{1+e^{\\mathbf{x}_i^T\\mathbf{w} + b}}$\n",
    "\n",
    "The above equation reads as: \n",
    "* The probability that event $y_i$ happens. Where the event could for example that a student fails a class.\n",
    "* Given a datapoint, $\\mathbf{x_i}$ containing student information like GPA, attendance, gender etc.\n",
    "* And the model parameters $\\mathbf{w}$ which are constant with regard to changing the input and output, thus we separate it with a semicolon.\n",
    "\n",
    "This formulation means that we can interpret the coefficients of our model, $\\mathbf{w}$, when fit as relative log-odds for an event, giving us a nice interpretability of our model. The fitting procedure is outside the scope of this lecture, but can be found in the paper by Mehta et. al listed at the head of this notebook."
   ]
  },
  {
   "cell_type": "markdown",
   "metadata": {},
   "source": [
    "### Task 2: fitting models \n",
    "\n",
    "In this task you should: \n",
    "\n",
    "1. Using `scikit-learn` the data must be appropriately split in separate data-sets\n",
    "2. Fit a classification model from `scikit-learn` to the appropriate data (implementing this as a function is recommended)\n",
    "3. Evaluate this model using two different classification metrics. You should also plot the Reciever Operator Characteristic curve. What do they tell you? \n",
    "\n",
    "#### Extra:\n",
    "4. Evaluate whether the scaling impacts the model performance"
   ]
  },
  {
   "cell_type": "markdown",
   "metadata": {},
   "source": [
    "## Tuning\n",
    "\n",
    "There are many parameters that can impact the performance of your model. If they are not explicitly optimized we call them hyperparameters and making sure they have a good value is an active area of research still as the number of such parameters grow and the computational complexity of models grow with them. "
   ]
  },
  {
   "cell_type": "markdown",
   "metadata": {},
   "source": [
    "### Task 3: hyperparameter search\n",
    "\n",
    "In this task you should: \n",
    "1. write your own function to do grid-search or random-search for two hyperparameters of your model. Consider the spacing for each parameter, should it be linear, logarithmic...? (hint: regularization strength is a good bet for most models).\n",
    "2. Plot or tabulate the results using a metric suited to this problem (hint: in `matplotlib.pyplot` there is a function`imshow` that can be very useful for this). \n",
    "\n",
    "#### Extra:\n",
    "3. Using `scikit-learn` add cross-validation to your hyperparameter search. Cross validation gives you a better estimate of your models performance, why? (see [this blog](https://towardsdatascience.com/cross-validation-70289113a072) for an explanation)"
   ]
  },
  {
   "cell_type": "markdown",
   "metadata": {},
   "source": [
    "## Analysis \n",
    "\n",
    "In classification, as in regression, the estimation of which features are _salient_ or important to the prediction is important to the analysis. The explicit procedure by which you can do this is model dependent, but for logistic regression the feature weights are often indicators of feature importance (think back to task 1a fpr statements that might modify this). One general way of measuring feature importance is by _recursive feature elimination_ which is just a fancy name for systematically picking out features you don't need by greedily checking how well your model does without it. "
   ]
  },
  {
   "cell_type": "markdown",
   "metadata": {},
   "source": [
    "### Task 4: Recursive Feature Elimination\n",
    "\n",
    "In this task you shoud:\n",
    "\n",
    "1. Use the provided code to perform feature extraction. The method included is model agnostic but suffers from performance issues. It's completely linear, it does a greedy search over all feature combinations leading to a long running time ( it goes as $\\mathcal{O}(2^N)$ ). What ways do you see of improving this algorithm? \n"
   ]
  },
  {
   "cell_type": "code",
   "execution_count": 1,
   "metadata": {},
   "outputs": [],
   "source": [
    "from sklearn.metrics import accuracy_score\n",
    "from itertools import chain, combinations\n",
    "import numpy as np\n",
    "import sklearn\n",
    "\n",
    "\n",
    "def feature_selection(model, x_train, x_test, y_train, y_test, score=accuracy_score):\n",
    "    \"\"\"\n",
    "    arguments: \n",
    "    ----------\n",
    "    model: A model implementing .fit and .predict methods\n",
    "    x_train: a N-samples x features matrix of data to train on\n",
    "    y_train: targets to train against\n",
    "    x_test: hold out set to estimate OOS error\n",
    "    y_test: hold out targets to estimate OOS error\n",
    "    \n",
    "    kwargs:\n",
    "    score: a score function measuring model performance, must implement __call__(y_true, y_pred)\n",
    "    \n",
    "    returns:\n",
    "    which: index(indices) of the subset and performance corresponding to\n",
    "        the minimum within one std of max performance \n",
    "    model_performance: array of all scores as measured by score \n",
    "    subsets: list describing the powerset of the features\n",
    "    --------\n",
    "    \n",
    "    \"\"\"\n",
    "    \n",
    "    n_features = x_train.shape[1]\n",
    "    feature_indices = np.arange(n_features)\n",
    "    \n",
    "    #generate a powerset [abc]->[a], [b], [c], [ab], [ac], [bc], [abc]\n",
    "    #to grab the columns from x for a given experiment\n",
    "    subset_iterator = chain.from_iterable(combinations(feature_indices, i) for i in range(1, len(feature_indices)+1))\n",
    "    model_performance = np.zeros(2**n_features)\n",
    "    subsets = [0]*(2**n_features)\n",
    "\n",
    "    for i, feature_subset in enumerate(subset_iterator):\n",
    "        #select subset data\n",
    "        train_subset = x_train[:, feature_subset]\n",
    "        test_subset = x_test[:, feature_subset]\n",
    "        #clone model with hyperparams but without weights to perform fitting\n",
    "        subset_model = sklearn.base.clone(model)\n",
    "        subset_model.fit(train_subset, y_train)\n",
    "        #evaluate performance\n",
    "        subset_performance = score(y_test, subset_model.predict(test_subset))\n",
    "        \n",
    "        #save configuration and performance\n",
    "        model_performance[i] = subset_performance\n",
    "        subsets[i] = feature_subset\n",
    "    \n",
    "    performance_std = model_performance.std()\n",
    "    best_performance = model_performance.max()\n",
    "    within_one_std = model_performance > (best_performance - performance_std)\n",
    "    min_within_one_std = model_performance[within_one_std].min()\n",
    "\n",
    "    which = np.where(model_performance == min_within_one_std)\n",
    "    return which, model_performance, subsets"
   ]
  }
 ],
 "metadata": {
  "kernelspec": {
   "display_name": "Python 3",
   "language": "python",
   "name": "python3"
  },
  "language_info": {
   "codemirror_mode": {
    "name": "ipython",
    "version": 3
   },
   "file_extension": ".py",
   "mimetype": "text/x-python",
   "name": "python",
   "nbconvert_exporter": "python",
   "pygments_lexer": "ipython3",
   "version": "3.5.5"
  }
 },
 "nbformat": 4,
 "nbformat_minor": 2
}
