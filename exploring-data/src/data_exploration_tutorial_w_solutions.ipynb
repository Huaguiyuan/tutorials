{
 "cells": [
  {
   "cell_type": "markdown",
   "metadata": {},
   "source": [
    "# Data Exploration Tutorial Activity\n",
    "\n",
    "In this initial tutorial, you will learn or be reminded of the ways to begin characterizing your dataset. This work is where much of the science happens - understanding what your data set looks like, what data it contains, what features of it connect with others, and what modeling processes might make the most sense for your data set.\n",
    "\n",
    "After completing this tutorial you should be able to:\n",
    "\n",
    "* Read a data set into a pandas dataframe\n",
    "* Determine the size and shape of the data set\n",
    "* Determine if any data are missing from the data set\n",
    "* Plot the distribution (both raw and cumulative) of different variables in the data set\n",
    "* Determine how well distributions of these data fit with known distributions (e.g., Gaussian)\n",
    "* Characterize the relationships between different variables in your data set (i.e., do they covary?)\n",
    "* Decide on a reasonable first model for your data set\n",
    "\n",
    "By answering a series of questions below for a constructed data set, you will achieve these goals."
   ]
  },
  {
   "cell_type": "markdown",
   "metadata": {},
   "source": [
    "## 1. Reading in data and determining basic properties of the data set\n",
    "\n",
    "When conducting analysis using Python, the `pandas` library is incredibly useful because it provides a common framework to work with data and simple tools for characterizing that data. We will use the `pandas` library for our work throughout the summer.\n",
    "\n",
    "There is a data set in a csv file (`sample.csv`) in a folder called `data`. \n",
    "\n",
    "### Tasks and Questions\n",
    "* Read the file into a pandas dataframe.\n",
    "* What does this file contain? How many variables?\n",
    "* What is the size of the data?\n",
    "\n",
    "### Challenge:\n",
    "* Determine if any data are missing from the dataset without looking at the data line-by-line."
   ]
  },
  {
   "cell_type": "markdown",
   "metadata": {},
   "source": [
    "__1. Solution__\n",
    "\n",
    "Below we import some of the most commonly used libraries for this kind of analysis. "
   ]
  },
  {
   "cell_type": "code",
   "execution_count": 1,
   "metadata": {},
   "outputs": [],
   "source": [
    "import matplotlib.pyplot as plt\n",
    "import pandas as pd\n",
    "import numpy as np\n",
    "%matplotlib inline"
   ]
  },
  {
   "cell_type": "markdown",
   "metadata": {},
   "source": [
    "We read the file in using the `read_csv` method, which creates a dataframe. We also notice that someone kindly labelled the data as input and output, which should make decisions about the modeling easier. From looking at the first few entries using the `head` method, we find that they are 3 variables (one ouput variable and two input variables)."
   ]
  },
  {
   "cell_type": "code",
   "execution_count": 2,
   "metadata": {},
   "outputs": [
    {
     "data": {
      "text/html": [
       "<div>\n",
       "<style scoped>\n",
       "    .dataframe tbody tr th:only-of-type {\n",
       "        vertical-align: middle;\n",
       "    }\n",
       "\n",
       "    .dataframe tbody tr th {\n",
       "        vertical-align: top;\n",
       "    }\n",
       "\n",
       "    .dataframe thead th {\n",
       "        text-align: right;\n",
       "    }\n",
       "</style>\n",
       "<table border=\"1\" class=\"dataframe\">\n",
       "  <thead>\n",
       "    <tr style=\"text-align: right;\">\n",
       "      <th></th>\n",
       "      <th>output</th>\n",
       "      <th>input0</th>\n",
       "      <th>input1</th>\n",
       "    </tr>\n",
       "  </thead>\n",
       "  <tbody>\n",
       "    <tr>\n",
       "      <th>0</th>\n",
       "      <td>135.099191</td>\n",
       "      <td>0.453641</td>\n",
       "      <td>1.136214</td>\n",
       "    </tr>\n",
       "    <tr>\n",
       "      <th>1</th>\n",
       "      <td>72.225026</td>\n",
       "      <td>0.499756</td>\n",
       "      <td>0.224330</td>\n",
       "    </tr>\n",
       "    <tr>\n",
       "      <th>2</th>\n",
       "      <td>-36.006911</td>\n",
       "      <td>0.189176</td>\n",
       "      <td>-0.382202</td>\n",
       "    </tr>\n",
       "    <tr>\n",
       "      <th>3</th>\n",
       "      <td>52.196707</td>\n",
       "      <td>0.456142</td>\n",
       "      <td>-0.098024</td>\n",
       "    </tr>\n",
       "    <tr>\n",
       "      <th>4</th>\n",
       "      <td>-96.906469</td>\n",
       "      <td>-1.008341</td>\n",
       "      <td>-0.464785</td>\n",
       "    </tr>\n",
       "  </tbody>\n",
       "</table>\n",
       "</div>"
      ],
      "text/plain": [
       "       output    input0    input1\n",
       "0  135.099191  0.453641  1.136214\n",
       "1   72.225026  0.499756  0.224330\n",
       "2  -36.006911  0.189176 -0.382202\n",
       "3   52.196707  0.456142 -0.098024\n",
       "4  -96.906469 -1.008341 -0.464785"
      ]
     },
     "execution_count": 2,
     "metadata": {},
     "output_type": "execute_result"
    }
   ],
   "source": [
    "df = pd.read_csv('../data/sample.csv', \n",
    "                 sep = '\\t')\n",
    "\n",
    "df.head()"
   ]
  },
  {
   "cell_type": "markdown",
   "metadata": {},
   "source": [
    "By using looking at the `shape` attribute, we find that the data set has 10000 entries for each of the three variables."
   ]
  },
  {
   "cell_type": "code",
   "execution_count": 3,
   "metadata": {},
   "outputs": [
    {
     "data": {
      "text/plain": [
       "(10000, 3)"
      ]
     },
     "execution_count": 3,
     "metadata": {},
     "output_type": "execute_result"
    }
   ],
   "source": [
    "df.shape"
   ]
  },
  {
   "cell_type": "markdown",
   "metadata": {},
   "source": [
    "We can use `isnull()` to determine if any of the data are missing, but this method returns a boolean for each value of the data set. To pool across all the data, we will check if any of the `values` are null using `.values.any()`. It turns out that no data are missing from this data set."
   ]
  },
  {
   "cell_type": "code",
   "execution_count": 4,
   "metadata": {},
   "outputs": [
    {
     "data": {
      "text/plain": [
       "False"
      ]
     },
     "execution_count": 4,
     "metadata": {},
     "output_type": "execute_result"
    }
   ],
   "source": [
    "df.isnull().values.any()"
   ]
  },
  {
   "cell_type": "markdown",
   "metadata": {},
   "source": [
    "## 2. Plotting the distributions of your data\n",
    "\n",
    "For this data set, there are 10000 points in each of 3 variables. While not an enormous data set, it is still too much to look at individual elements (as we saw with checking if any of the data are missing). It will be valuable for both understanding the data set and for choosing how to model it later that we see how these data are distributed.\n",
    "\n",
    "### Tasks and Questions\n",
    "\n",
    "* Plot the distribution (a histogram) of each variable in the data set\n",
    "    * Can you do this by only using pandas methods? What other ways could you use (if needed)?\n",
    "* Plot the cumuluative distribution for each variable in the data set\n",
    "    * Can you do this by only using pandas methods? What other ways could you use (if needed)?\n",
    "* Do the distributions of these data look familiar? What distribution(s) might they fit most closely?"
   ]
  },
  {
   "cell_type": "markdown",
   "metadata": {},
   "source": [
    "__2. Solution__\n",
    "\n",
    "Using `pandas` this task is realtively straightforward. The distribution of all the variables can be viewed by simply using the `hist` method. However, it is worth showing that you can do this for a given variable, which also can use the `hist` method. In addition the `hist` method allows us to develop a cumulative distribution that we can norm.\n",
    "\n",
    "As we can see, all of our data look relatively Gaussian, so we should be able to use the mean and standard deviation to build model distributions to compare them against. We will do that in the next task."
   ]
  },
  {
   "cell_type": "code",
   "execution_count": 5,
   "metadata": {},
   "outputs": [
    {
     "data": {
      "image/png": "[encoded data removed]",
      "text/plain": [
       "<Figure size 432x288 with 4 Axes>"
      ]
     },
     "metadata": {
      "needs_background": "light"
     },
     "output_type": "display_data"
    }
   ],
   "source": [
    "df.hist(bins = 100, density = 1);"
   ]
  },
  {
   "cell_type": "code",
   "execution_count": 6,
   "metadata": {},
   "outputs": [
    {
     "data": {
      "text/plain": [
       "Text(0.5, 0, 'output')"
      ]
     },
     "execution_count": 6,
     "metadata": {},
     "output_type": "execute_result"
    },
    {
     "data": {
      "image/png": "[encoded data removed]",
      "text/plain": [
       "<Figure size 432x288 with 1 Axes>"
      ]
     },
     "metadata": {
      "needs_background": "light"
     },
     "output_type": "display_data"
    }
   ],
   "source": [
    "df['output'].hist(bins = 100, density = 1)\n",
    "\n",
    "plt.ylabel('fraction')\n",
    "plt.xlabel('output')"
   ]
  },
  {
   "cell_type": "code",
   "execution_count": 7,
   "metadata": {},
   "outputs": [
    {
     "data": {
      "image/png": "[encoded data removed]",
      "text/plain": [
       "<Figure size 432x288 with 4 Axes>"
      ]
     },
     "metadata": {
      "needs_background": "light"
     },
     "output_type": "display_data"
    }
   ],
   "source": [
    "df.hist(cumulative=True, \n",
    "        density = 1,\n",
    "        bins = 100);"
   ]
  },
  {
   "cell_type": "code",
   "execution_count": 8,
   "metadata": {},
   "outputs": [
    {
     "data": {
      "text/plain": [
       "Text(0.5, 0, 'output')"
      ]
     },
     "execution_count": 8,
     "metadata": {},
     "output_type": "execute_result"
    },
    {
     "data": {
      "image/png": "[encoded data removed]",
      "text/plain": [
       "<Figure size 432x288 with 1 Axes>"
      ]
     },
     "metadata": {
      "needs_background": "light"
     },
     "output_type": "display_data"
    }
   ],
   "source": [
    "df['output'].hist(cumulative=True, \n",
    "        density = 1,\n",
    "        bins = 100)\n",
    "\n",
    "plt.ylabel('fraction')\n",
    "plt.xlabel('output')"
   ]
  },
  {
   "cell_type": "markdown",
   "metadata": {},
   "source": [
    "## 3. Characterizing how well your data fits known distributions\n",
    "\n",
    "It was likely easy to see that these data for all 3 variables fit well (at least, visually) with a Gaussian distribution. Let's see if we can get a bit more quantitative with these data and see how well they fit a Gaussian distribution.\n",
    "\n",
    "### Tasks and Questions\n",
    "\n",
    "* Determine the mean and standard deviation for each of the variables in your data set.\n",
    "* Use those values to build a Gaussian model of your data and plot that model along with your data.\n",
    "\n",
    "### Challenge\n",
    "* Look up a goodness-of-fit test for a Gaussian and determine how well the distribution of each variable fits with a Gaussian model."
   ]
  },
  {
   "cell_type": "markdown",
   "metadata": {},
   "source": [
    "__3. Solution__\n",
    "\n",
    "We can use the `mean` and `std` methods to find these description of our data. Given that we think our data appears Gaussian, we can construct a Gaussian function with using the means and standard deviations and plot them (normalized) on top of each other."
   ]
  },
  {
   "cell_type": "code",
   "execution_count": 9,
   "metadata": {},
   "outputs": [
    {
     "name": "stdout",
     "output_type": "stream",
     "text": [
      "means:\n",
      " output   -0.364299\n",
      "input0   -0.010486\n",
      "input1    0.003041\n",
      "dtype: float64 \n",
      "\n",
      "standard deviations:\n",
      " output    111.851802\n",
      "input0      0.994969\n",
      "input1      0.985901\n",
      "dtype: float64\n"
     ]
    }
   ],
   "source": [
    "means =  df.mean()\n",
    "std_devs = df.std()\n",
    "\n",
    "print(\"means:\\n\", means, \"\\n\")\n",
    "print(\"standard deviations:\\n\", std_devs)"
   ]
  },
  {
   "cell_type": "code",
   "execution_count": 10,
   "metadata": {},
   "outputs": [],
   "source": [
    "def compareToGaussian(variable, step = 1):\n",
    "    \n",
    "    mu, sigma = means[variable], std_devs[variable]\n",
    "    x = np.arange(df[variable].min()-0.1*df[variable].min(), df[variable].max()+0.1*df[variable].max(), step)\n",
    "\n",
    "    gauss = 1/(sigma*np.sqrt(2*np.pi))*np.exp(-(0.5*((x-mu)/sigma))**2)\n",
    "\n",
    "    plt.plot(x,gauss)\n",
    "    df[variable].hist(bins = 100, density = 1)\n",
    "    plt.ylabel('fraction')\n",
    "    plt.xlabel(variable)"
   ]
  },
  {
   "cell_type": "code",
   "execution_count": 11,
   "metadata": {},
   "outputs": [
    {
     "data": {
      "image/png": "[encoded data removed]",
      "text/plain": [
       "<Figure size 432x288 with 1 Axes>"
      ]
     },
     "metadata": {
      "needs_background": "light"
     },
     "output_type": "display_data"
    }
   ],
   "source": [
    "compareToGaussian('output')"
   ]
  },
  {
   "cell_type": "code",
   "execution_count": 12,
   "metadata": {},
   "outputs": [
    {
     "data": {
      "image/png": "[encoded data removed]",
      "text/plain": [
       "<Figure size 432x288 with 1 Axes>"
      ]
     },
     "metadata": {
      "needs_background": "light"
     },
     "output_type": "display_data"
    }
   ],
   "source": [
    "compareToGaussian('input0', 0.01)"
   ]
  },
  {
   "cell_type": "code",
   "execution_count": 13,
   "metadata": {},
   "outputs": [
    {
     "data": {
      "image/png": "[encoded data removed]",
      "text/plain": [
       "<Figure size 432x288 with 1 Axes>"
      ]
     },
     "metadata": {
      "needs_background": "light"
     },
     "output_type": "display_data"
    }
   ],
   "source": [
    "compareToGaussian('input1', 0.01)"
   ]
  },
  {
   "cell_type": "markdown",
   "metadata": {},
   "source": [
    "We can use the Shapiro-Wilk test within `scipy.stats` to check if the data were drawn from a Gaussian distribution. It looks like the test confirms what we could tell by eye."
   ]
  },
  {
   "cell_type": "code",
   "execution_count": null,
   "metadata": {},
   "outputs": [],
   "source": [
    "from scipy.stats import shapiro\n",
    "\n",
    "def normTest(data):\n",
    "    \n",
    "    stat, p = shapiro(data)\n",
    "    print('Statistics=%.3f, p=%.3f' % (stat, p))\n",
    "    \n",
    "    alpha = 0.05\n",
    "    if p > alpha:\n",
    "        print('Sample looks Gaussian (fail to reject H0)')\n",
    "    else:\n",
    "        print('Sample does not look Gaussian (reject H0)')"
   ]
  },
  {
   "cell_type": "code",
   "execution_count": null,
   "metadata": {},
   "outputs": [],
   "source": [
    "normTest(df['output'])"
   ]
  },
  {
   "cell_type": "code",
   "execution_count": null,
   "metadata": {},
   "outputs": [],
   "source": [
    "normTest(df['input0'])"
   ]
  },
  {
   "cell_type": "code",
   "execution_count": null,
   "metadata": {},
   "outputs": [],
   "source": [
    "normTest(df['input1'])"
   ]
  },
  {
   "cell_type": "markdown",
   "metadata": {},
   "source": [
    "## 4. Determining how the data are related to each other\n",
    "\n",
    "As we are ultimately interested in building models of data, we'd like to know how the variables are related to each other. There's a few ways we can do that, which we can introduce here.\n",
    "\n",
    "### Tasks and Questions\n",
    "\n",
    "* Make a scatter plot of each variable against the others.\n",
    "    * Do they co-vary? If the do, how so?\n",
    "    * Do you see \"interaction effects\" in your input variables?\n",
    "* Quantify any covariance you see between variables."
   ]
  },
  {
   "cell_type": "markdown",
   "metadata": {},
   "source": [
    "__4. Solution__\n",
    "\n",
    "Using the `plot.scatter()` method, we can see that there might be some sort of linerar relationship between the input variables and the output variable. It appears that the relationship is stronger between `input1` and `output`. It also appears there's really no relationship between the input variables (i.e., little, if any, interaction effect). We can check that using the `corr()` method."
   ]
  },
  {
   "cell_type": "code",
   "execution_count": null,
   "metadata": {},
   "outputs": [],
   "source": [
    "ax1 = df.plot.scatter(x = 'input0',\n",
    "                      y = 'output')"
   ]
  },
  {
   "cell_type": "code",
   "execution_count": null,
   "metadata": {},
   "outputs": [],
   "source": [
    "ax1 = df.plot.scatter(x = 'input1',\n",
    "                      y = 'output')"
   ]
  },
  {
   "cell_type": "code",
   "execution_count": null,
   "metadata": {},
   "outputs": [],
   "source": [
    "ax1 = df.plot.scatter(x = 'input0',\n",
    "                      y = 'input1')"
   ]
  },
  {
   "cell_type": "code",
   "execution_count": null,
   "metadata": {},
   "outputs": [],
   "source": [
    "print(df.corr())"
   ]
  },
  {
   "cell_type": "markdown",
   "metadata": {},
   "source": [
    "From this analysis, it appears that a linear regression model that uses `input0` and `input1` to predict `output` is reasonable. We don't need to include interaction effects."
   ]
  },
  {
   "cell_type": "code",
   "execution_count": null,
   "metadata": {},
   "outputs": [],
   "source": []
  }
 ],
 "metadata": {
  "kernelspec": {
   "display_name": "Python 3",
   "language": "python",
   "name": "python3"
  },
  "language_info": {
   "codemirror_mode": {
    "name": "ipython",
    "version": 3
   },
   "file_extension": ".py",
   "mimetype": "text/x-python",
   "name": "python",
   "nbconvert_exporter": "python",
   "pygments_lexer": "ipython3",
   "version": "3.6.8"
  }
 },
 "nbformat": 4,
 "nbformat_minor": 2
}
