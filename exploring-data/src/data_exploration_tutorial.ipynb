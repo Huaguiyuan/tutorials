{
 "cells": [
  {
   "cell_type": "markdown",
   "metadata": {},
   "source": [
    "# Data Exploration Tutorial Activity\n",
    "\n",
    "In this initial tutorial, you will learn or be reminded of the ways to begin characterizing your dataset. This work is where much of the science happens - understanding what your data set looks like, what data it contains, what features of it connect with others, and what modeling processes might make the most sense for your data set.\n",
    "\n",
    "After completing this tutorial you should be able to:\n",
    "\n",
    "* Read a data set into a pandas dataframe\n",
    "* Determine the size and shape of the data set\n",
    "* Determine if any data are missing from the data set\n",
    "* Plot the distribution (both raw and cumulative) of different variables in the data set\n",
    "* Determine how well distributions of these data fit with known distributions (e.g., Gaussian)\n",
    "* Characterize the relationships between different variables in your data set (i.e., do they covary?)\n",
    "* Decide on a reasonable first model for your data set\n",
    "\n",
    "By answering a series of questions below for a constructed data set, you will achieve these goals."
   ]
  },
  {
   "cell_type": "markdown",
   "metadata": {},
   "source": [
    "## 1. Reading in data and determining basic properties of the data set\n",
    "\n",
    "When conducting analysis using Python, the `pandas` library is incredibly useful because it provides a common framework to work with data and simple tools for characterizing that data. We will use the `pandas` library for our work throughout the summer.\n",
    "\n",
    "There is a data set in a csv file (`sample.csv`) in a folder called `data`. \n",
    "\n",
    "### Tasks and Questions\n",
    "* Read the file into a pandas dataframe.\n",
    "* What does this file contain? How many variables?\n",
    "* What is the size of the data?\n",
    "\n",
    "### Challenge:\n",
    "* Determine if any data are missing from the dataset without looking at the data line-by-line."
   ]
  },
  {
   "cell_type": "markdown",
   "metadata": {},
   "source": [
    "## 2. Plotting the distributions of your data\n",
    "\n",
    "For this data set, there are 10000 points in each of 3 variables. While not an enormous data set, it is still too much to look at individual elements (as we saw with checking if any of the data are missing). It will be valuable for both understanding the data set and for choosing how to model it later that we see how these data are distributed.\n",
    "\n",
    "### Tasks and Questions\n",
    "\n",
    "* Plot the distribution (a histogram) of each variable in the data set\n",
    "    * Can you do this by only using pandas methods? What other ways could you use (if needed)?\n",
    "* Plot the cumuluative distribution for each variable in the data set\n",
    "    * Can you do this by only using pandas methods? What other ways could you use (if needed)?\n",
    "* Do the distributions of these data look familiar? What distribution(s) might they fit most closely?"
   ]
  },
  {
   "cell_type": "markdown",
   "metadata": {},
   "source": [
    "## 3. Characterizing how well your data fits known distributions\n",
    "\n",
    "It was likely easy to see that these data for all 3 variables fit well (at least, visually) with a Gaussian distribution. Let's see if we can get a bit more quantitative with these data and see how well they fit a Gaussian distribution.\n",
    "\n",
    "### Tasks and Questions\n",
    "\n",
    "* Determine the mean and standard deviation for each of the variables in your data set.\n",
    "* Use those values to build a Gaussian model of your data and plot that model along with your data.\n",
    "\n",
    "### Challenge\n",
    "* Look up a goodness-of-fit test for a Gaussian and determine how well the distribution of each variable fits with a Gaussian model."
   ]
  },
  {
   "cell_type": "markdown",
   "metadata": {},
   "source": [
    "## 4. Determining how the data are related to each other\n",
    "\n",
    "As we are ultimately interested in building models of data, we'd like to know how the variables are related to each other. There's a few ways we can do that, which we can introduce here.\n",
    "\n",
    "### Tasks and Questions\n",
    "\n",
    "* Make a scatter plot of each variable against the others.\n",
    "    * Do they co-vary? If the do, how so?\n",
    "    * Do you see \"interaction effects\" in your input variables?\n",
    "* Quantify any covariance you see between variables."
   ]
  },
  {
   "cell_type": "code",
   "execution_count": null,
   "metadata": {},
   "outputs": [],
   "source": []
  }
 ],
 "metadata": {
  "kernelspec": {
   "display_name": "Python 3",
   "language": "python",
   "name": "python3"
  },
  "language_info": {
   "codemirror_mode": {
    "name": "ipython",
    "version": 3
   },
   "file_extension": ".py",
   "mimetype": "text/x-python",
   "name": "python",
   "nbconvert_exporter": "python",
   "pygments_lexer": "ipython3",
   "version": "3.7.2"
  }
 },
 "nbformat": 4,
 "nbformat_minor": 2
}
